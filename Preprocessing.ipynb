{
 "cells": [
  {
   "cell_type": "code",
   "execution_count": 1,
   "metadata": {},
   "outputs": [],
   "source": [
    "import pandas as pd\n",
    "import numpy as np\n",
    "import matplotlib.pyplot as plt\n",
    "import seaborn as sns\n",
    "from scipy.stats import chi2_contingency, chi2, ttest_ind, pointbiserialr\n",
    "from IPython.display import display\n",
    "import math"
   ]
  },
  {
   "cell_type": "code",
   "execution_count": 2,
   "metadata": {},
   "outputs": [],
   "source": [
    "#Description of attributes\n",
    "#Data Download: http://archive.ics.uci.edu/ml/datasets/Diabetes+130-US+hospitals+for+years+1999-2008\n",
    "#https://www.hindawi.com/journals/bmri/2014/781670/"
   ]
  },
  {
   "cell_type": "code",
   "execution_count": 3,
   "metadata": {},
   "outputs": [],
   "source": [
    "path = 'Data/'\n",
    "df = pd.read_csv(path + 'diabetic_data.csv')"
   ]
  },
  {
   "cell_type": "code",
   "execution_count": 4,
   "metadata": {},
   "outputs": [
    {
     "data": {
      "text/plain": [
       "(101766, 50)"
      ]
     },
     "execution_count": 4,
     "metadata": {},
     "output_type": "execute_result"
    }
   ],
   "source": [
    "df.shape"
   ]
  },
  {
   "cell_type": "code",
   "execution_count": 5,
   "metadata": {
    "scrolled": true
   },
   "outputs": [
    {
     "data": {
      "text/html": [
       "<div>\n",
       "<style scoped>\n",
       "    .dataframe tbody tr th:only-of-type {\n",
       "        vertical-align: middle;\n",
       "    }\n",
       "\n",
       "    .dataframe tbody tr th {\n",
       "        vertical-align: top;\n",
       "    }\n",
       "\n",
       "    .dataframe thead th {\n",
       "        text-align: right;\n",
       "    }\n",
       "</style>\n",
       "<table border=\"1\" class=\"dataframe\">\n",
       "  <thead>\n",
       "    <tr style=\"text-align: right;\">\n",
       "      <th></th>\n",
       "      <th>encounter_id</th>\n",
       "      <th>patient_nbr</th>\n",
       "      <th>race</th>\n",
       "      <th>gender</th>\n",
       "      <th>age</th>\n",
       "      <th>weight</th>\n",
       "      <th>admission_type_id</th>\n",
       "      <th>discharge_disposition_id</th>\n",
       "      <th>admission_source_id</th>\n",
       "      <th>time_in_hospital</th>\n",
       "      <th>...</th>\n",
       "      <th>citoglipton</th>\n",
       "      <th>insulin</th>\n",
       "      <th>glyburide-metformin</th>\n",
       "      <th>glipizide-metformin</th>\n",
       "      <th>glimepiride-pioglitazone</th>\n",
       "      <th>metformin-rosiglitazone</th>\n",
       "      <th>metformin-pioglitazone</th>\n",
       "      <th>change</th>\n",
       "      <th>diabetesMed</th>\n",
       "      <th>readmitted</th>\n",
       "    </tr>\n",
       "  </thead>\n",
       "  <tbody>\n",
       "    <tr>\n",
       "      <th>0</th>\n",
       "      <td>2278392</td>\n",
       "      <td>8222157</td>\n",
       "      <td>Caucasian</td>\n",
       "      <td>Female</td>\n",
       "      <td>[0-10)</td>\n",
       "      <td>?</td>\n",
       "      <td>6</td>\n",
       "      <td>25</td>\n",
       "      <td>1</td>\n",
       "      <td>1</td>\n",
       "      <td>...</td>\n",
       "      <td>No</td>\n",
       "      <td>No</td>\n",
       "      <td>No</td>\n",
       "      <td>No</td>\n",
       "      <td>No</td>\n",
       "      <td>No</td>\n",
       "      <td>No</td>\n",
       "      <td>No</td>\n",
       "      <td>No</td>\n",
       "      <td>NO</td>\n",
       "    </tr>\n",
       "    <tr>\n",
       "      <th>1</th>\n",
       "      <td>149190</td>\n",
       "      <td>55629189</td>\n",
       "      <td>Caucasian</td>\n",
       "      <td>Female</td>\n",
       "      <td>[10-20)</td>\n",
       "      <td>?</td>\n",
       "      <td>1</td>\n",
       "      <td>1</td>\n",
       "      <td>7</td>\n",
       "      <td>3</td>\n",
       "      <td>...</td>\n",
       "      <td>No</td>\n",
       "      <td>Up</td>\n",
       "      <td>No</td>\n",
       "      <td>No</td>\n",
       "      <td>No</td>\n",
       "      <td>No</td>\n",
       "      <td>No</td>\n",
       "      <td>Ch</td>\n",
       "      <td>Yes</td>\n",
       "      <td>&gt;30</td>\n",
       "    </tr>\n",
       "    <tr>\n",
       "      <th>2</th>\n",
       "      <td>64410</td>\n",
       "      <td>86047875</td>\n",
       "      <td>AfricanAmerican</td>\n",
       "      <td>Female</td>\n",
       "      <td>[20-30)</td>\n",
       "      <td>?</td>\n",
       "      <td>1</td>\n",
       "      <td>1</td>\n",
       "      <td>7</td>\n",
       "      <td>2</td>\n",
       "      <td>...</td>\n",
       "      <td>No</td>\n",
       "      <td>No</td>\n",
       "      <td>No</td>\n",
       "      <td>No</td>\n",
       "      <td>No</td>\n",
       "      <td>No</td>\n",
       "      <td>No</td>\n",
       "      <td>No</td>\n",
       "      <td>Yes</td>\n",
       "      <td>NO</td>\n",
       "    </tr>\n",
       "    <tr>\n",
       "      <th>3</th>\n",
       "      <td>500364</td>\n",
       "      <td>82442376</td>\n",
       "      <td>Caucasian</td>\n",
       "      <td>Male</td>\n",
       "      <td>[30-40)</td>\n",
       "      <td>?</td>\n",
       "      <td>1</td>\n",
       "      <td>1</td>\n",
       "      <td>7</td>\n",
       "      <td>2</td>\n",
       "      <td>...</td>\n",
       "      <td>No</td>\n",
       "      <td>Up</td>\n",
       "      <td>No</td>\n",
       "      <td>No</td>\n",
       "      <td>No</td>\n",
       "      <td>No</td>\n",
       "      <td>No</td>\n",
       "      <td>Ch</td>\n",
       "      <td>Yes</td>\n",
       "      <td>NO</td>\n",
       "    </tr>\n",
       "    <tr>\n",
       "      <th>4</th>\n",
       "      <td>16680</td>\n",
       "      <td>42519267</td>\n",
       "      <td>Caucasian</td>\n",
       "      <td>Male</td>\n",
       "      <td>[40-50)</td>\n",
       "      <td>?</td>\n",
       "      <td>1</td>\n",
       "      <td>1</td>\n",
       "      <td>7</td>\n",
       "      <td>1</td>\n",
       "      <td>...</td>\n",
       "      <td>No</td>\n",
       "      <td>Steady</td>\n",
       "      <td>No</td>\n",
       "      <td>No</td>\n",
       "      <td>No</td>\n",
       "      <td>No</td>\n",
       "      <td>No</td>\n",
       "      <td>Ch</td>\n",
       "      <td>Yes</td>\n",
       "      <td>NO</td>\n",
       "    </tr>\n",
       "  </tbody>\n",
       "</table>\n",
       "<p>5 rows × 50 columns</p>\n",
       "</div>"
      ],
      "text/plain": [
       "   encounter_id  patient_nbr             race  gender      age weight  \\\n",
       "0       2278392      8222157        Caucasian  Female   [0-10)      ?   \n",
       "1        149190     55629189        Caucasian  Female  [10-20)      ?   \n",
       "2         64410     86047875  AfricanAmerican  Female  [20-30)      ?   \n",
       "3        500364     82442376        Caucasian    Male  [30-40)      ?   \n",
       "4         16680     42519267        Caucasian    Male  [40-50)      ?   \n",
       "\n",
       "   admission_type_id  discharge_disposition_id  admission_source_id  \\\n",
       "0                  6                        25                    1   \n",
       "1                  1                         1                    7   \n",
       "2                  1                         1                    7   \n",
       "3                  1                         1                    7   \n",
       "4                  1                         1                    7   \n",
       "\n",
       "   time_in_hospital  ... citoglipton insulin  glyburide-metformin  \\\n",
       "0                 1  ...          No      No                   No   \n",
       "1                 3  ...          No      Up                   No   \n",
       "2                 2  ...          No      No                   No   \n",
       "3                 2  ...          No      Up                   No   \n",
       "4                 1  ...          No  Steady                   No   \n",
       "\n",
       "   glipizide-metformin  glimepiride-pioglitazone  metformin-rosiglitazone  \\\n",
       "0                   No                        No                       No   \n",
       "1                   No                        No                       No   \n",
       "2                   No                        No                       No   \n",
       "3                   No                        No                       No   \n",
       "4                   No                        No                       No   \n",
       "\n",
       "   metformin-pioglitazone  change diabetesMed readmitted  \n",
       "0                      No      No          No         NO  \n",
       "1                      No      Ch         Yes        >30  \n",
       "2                      No      No         Yes         NO  \n",
       "3                      No      Ch         Yes         NO  \n",
       "4                      No      Ch         Yes         NO  \n",
       "\n",
       "[5 rows x 50 columns]"
      ]
     },
     "execution_count": 5,
     "metadata": {},
     "output_type": "execute_result"
    }
   ],
   "source": [
    "df.head(5)"
   ]
  },
  {
   "cell_type": "code",
   "execution_count": 6,
   "metadata": {
    "scrolled": true
   },
   "outputs": [
    {
     "name": "stdout",
     "output_type": "stream",
     "text": [
      "<class 'pandas.core.frame.DataFrame'>\n",
      "RangeIndex: 101766 entries, 0 to 101765\n",
      "Data columns (total 50 columns):\n",
      " #   Column                    Non-Null Count   Dtype \n",
      "---  ------                    --------------   ----- \n",
      " 0   encounter_id              101766 non-null  int64 \n",
      " 1   patient_nbr               101766 non-null  int64 \n",
      " 2   race                      101766 non-null  object\n",
      " 3   gender                    101766 non-null  object\n",
      " 4   age                       101766 non-null  object\n",
      " 5   weight                    101766 non-null  object\n",
      " 6   admission_type_id         101766 non-null  int64 \n",
      " 7   discharge_disposition_id  101766 non-null  int64 \n",
      " 8   admission_source_id       101766 non-null  int64 \n",
      " 9   time_in_hospital          101766 non-null  int64 \n",
      " 10  payer_code                101766 non-null  object\n",
      " 11  medical_specialty         101766 non-null  object\n",
      " 12  num_lab_procedures        101766 non-null  int64 \n",
      " 13  num_procedures            101766 non-null  int64 \n",
      " 14  num_medications           101766 non-null  int64 \n",
      " 15  number_outpatient         101766 non-null  int64 \n",
      " 16  number_emergency          101766 non-null  int64 \n",
      " 17  number_inpatient          101766 non-null  int64 \n",
      " 18  diag_1                    101766 non-null  object\n",
      " 19  diag_2                    101766 non-null  object\n",
      " 20  diag_3                    101766 non-null  object\n",
      " 21  number_diagnoses          101766 non-null  int64 \n",
      " 22  max_glu_serum             101766 non-null  object\n",
      " 23  A1Cresult                 101766 non-null  object\n",
      " 24  metformin                 101766 non-null  object\n",
      " 25  repaglinide               101766 non-null  object\n",
      " 26  nateglinide               101766 non-null  object\n",
      " 27  chlorpropamide            101766 non-null  object\n",
      " 28  glimepiride               101766 non-null  object\n",
      " 29  acetohexamide             101766 non-null  object\n",
      " 30  glipizide                 101766 non-null  object\n",
      " 31  glyburide                 101766 non-null  object\n",
      " 32  tolbutamide               101766 non-null  object\n",
      " 33  pioglitazone              101766 non-null  object\n",
      " 34  rosiglitazone             101766 non-null  object\n",
      " 35  acarbose                  101766 non-null  object\n",
      " 36  miglitol                  101766 non-null  object\n",
      " 37  troglitazone              101766 non-null  object\n",
      " 38  tolazamide                101766 non-null  object\n",
      " 39  examide                   101766 non-null  object\n",
      " 40  citoglipton               101766 non-null  object\n",
      " 41  insulin                   101766 non-null  object\n",
      " 42  glyburide-metformin       101766 non-null  object\n",
      " 43  glipizide-metformin       101766 non-null  object\n",
      " 44  glimepiride-pioglitazone  101766 non-null  object\n",
      " 45  metformin-rosiglitazone   101766 non-null  object\n",
      " 46  metformin-pioglitazone    101766 non-null  object\n",
      " 47  change                    101766 non-null  object\n",
      " 48  diabetesMed               101766 non-null  object\n",
      " 49  readmitted                101766 non-null  object\n",
      "dtypes: int64(13), object(37)\n",
      "memory usage: 38.8+ MB\n"
     ]
    }
   ],
   "source": [
    "df.info()"
   ]
  },
  {
   "cell_type": "code",
   "execution_count": 7,
   "metadata": {
    "scrolled": true
   },
   "outputs": [
    {
     "data": {
      "text/html": [
       "<div>\n",
       "<style scoped>\n",
       "    .dataframe tbody tr th:only-of-type {\n",
       "        vertical-align: middle;\n",
       "    }\n",
       "\n",
       "    .dataframe tbody tr th {\n",
       "        vertical-align: top;\n",
       "    }\n",
       "\n",
       "    .dataframe thead th {\n",
       "        text-align: right;\n",
       "    }\n",
       "</style>\n",
       "<table border=\"1\" class=\"dataframe\">\n",
       "  <thead>\n",
       "    <tr style=\"text-align: right;\">\n",
       "      <th></th>\n",
       "      <th>encounter_id</th>\n",
       "      <th>patient_nbr</th>\n",
       "      <th>admission_type_id</th>\n",
       "      <th>discharge_disposition_id</th>\n",
       "      <th>admission_source_id</th>\n",
       "      <th>time_in_hospital</th>\n",
       "      <th>num_lab_procedures</th>\n",
       "      <th>num_procedures</th>\n",
       "      <th>num_medications</th>\n",
       "      <th>number_outpatient</th>\n",
       "      <th>number_emergency</th>\n",
       "      <th>number_inpatient</th>\n",
       "      <th>number_diagnoses</th>\n",
       "    </tr>\n",
       "  </thead>\n",
       "  <tbody>\n",
       "    <tr>\n",
       "      <th>count</th>\n",
       "      <td>1.017660e+05</td>\n",
       "      <td>1.017660e+05</td>\n",
       "      <td>101766.000000</td>\n",
       "      <td>101766.000000</td>\n",
       "      <td>101766.000000</td>\n",
       "      <td>101766.000000</td>\n",
       "      <td>101766.000000</td>\n",
       "      <td>101766.000000</td>\n",
       "      <td>101766.000000</td>\n",
       "      <td>101766.000000</td>\n",
       "      <td>101766.000000</td>\n",
       "      <td>101766.000000</td>\n",
       "      <td>101766.000000</td>\n",
       "    </tr>\n",
       "    <tr>\n",
       "      <th>mean</th>\n",
       "      <td>1.652016e+08</td>\n",
       "      <td>5.433040e+07</td>\n",
       "      <td>2.024006</td>\n",
       "      <td>3.715642</td>\n",
       "      <td>5.754437</td>\n",
       "      <td>4.395987</td>\n",
       "      <td>43.095641</td>\n",
       "      <td>1.339730</td>\n",
       "      <td>16.021844</td>\n",
       "      <td>0.369357</td>\n",
       "      <td>0.197836</td>\n",
       "      <td>0.635566</td>\n",
       "      <td>7.422607</td>\n",
       "    </tr>\n",
       "    <tr>\n",
       "      <th>std</th>\n",
       "      <td>1.026403e+08</td>\n",
       "      <td>3.869636e+07</td>\n",
       "      <td>1.445403</td>\n",
       "      <td>5.280166</td>\n",
       "      <td>4.064081</td>\n",
       "      <td>2.985108</td>\n",
       "      <td>19.674362</td>\n",
       "      <td>1.705807</td>\n",
       "      <td>8.127566</td>\n",
       "      <td>1.267265</td>\n",
       "      <td>0.930472</td>\n",
       "      <td>1.262863</td>\n",
       "      <td>1.933600</td>\n",
       "    </tr>\n",
       "    <tr>\n",
       "      <th>min</th>\n",
       "      <td>1.252200e+04</td>\n",
       "      <td>1.350000e+02</td>\n",
       "      <td>1.000000</td>\n",
       "      <td>1.000000</td>\n",
       "      <td>1.000000</td>\n",
       "      <td>1.000000</td>\n",
       "      <td>1.000000</td>\n",
       "      <td>0.000000</td>\n",
       "      <td>1.000000</td>\n",
       "      <td>0.000000</td>\n",
       "      <td>0.000000</td>\n",
       "      <td>0.000000</td>\n",
       "      <td>1.000000</td>\n",
       "    </tr>\n",
       "    <tr>\n",
       "      <th>25%</th>\n",
       "      <td>8.496119e+07</td>\n",
       "      <td>2.341322e+07</td>\n",
       "      <td>1.000000</td>\n",
       "      <td>1.000000</td>\n",
       "      <td>1.000000</td>\n",
       "      <td>2.000000</td>\n",
       "      <td>31.000000</td>\n",
       "      <td>0.000000</td>\n",
       "      <td>10.000000</td>\n",
       "      <td>0.000000</td>\n",
       "      <td>0.000000</td>\n",
       "      <td>0.000000</td>\n",
       "      <td>6.000000</td>\n",
       "    </tr>\n",
       "    <tr>\n",
       "      <th>50%</th>\n",
       "      <td>1.523890e+08</td>\n",
       "      <td>4.550514e+07</td>\n",
       "      <td>1.000000</td>\n",
       "      <td>1.000000</td>\n",
       "      <td>7.000000</td>\n",
       "      <td>4.000000</td>\n",
       "      <td>44.000000</td>\n",
       "      <td>1.000000</td>\n",
       "      <td>15.000000</td>\n",
       "      <td>0.000000</td>\n",
       "      <td>0.000000</td>\n",
       "      <td>0.000000</td>\n",
       "      <td>8.000000</td>\n",
       "    </tr>\n",
       "    <tr>\n",
       "      <th>75%</th>\n",
       "      <td>2.302709e+08</td>\n",
       "      <td>8.754595e+07</td>\n",
       "      <td>3.000000</td>\n",
       "      <td>4.000000</td>\n",
       "      <td>7.000000</td>\n",
       "      <td>6.000000</td>\n",
       "      <td>57.000000</td>\n",
       "      <td>2.000000</td>\n",
       "      <td>20.000000</td>\n",
       "      <td>0.000000</td>\n",
       "      <td>0.000000</td>\n",
       "      <td>1.000000</td>\n",
       "      <td>9.000000</td>\n",
       "    </tr>\n",
       "    <tr>\n",
       "      <th>max</th>\n",
       "      <td>4.438672e+08</td>\n",
       "      <td>1.895026e+08</td>\n",
       "      <td>8.000000</td>\n",
       "      <td>28.000000</td>\n",
       "      <td>25.000000</td>\n",
       "      <td>14.000000</td>\n",
       "      <td>132.000000</td>\n",
       "      <td>6.000000</td>\n",
       "      <td>81.000000</td>\n",
       "      <td>42.000000</td>\n",
       "      <td>76.000000</td>\n",
       "      <td>21.000000</td>\n",
       "      <td>16.000000</td>\n",
       "    </tr>\n",
       "  </tbody>\n",
       "</table>\n",
       "</div>"
      ],
      "text/plain": [
       "       encounter_id   patient_nbr  admission_type_id  \\\n",
       "count  1.017660e+05  1.017660e+05      101766.000000   \n",
       "mean   1.652016e+08  5.433040e+07           2.024006   \n",
       "std    1.026403e+08  3.869636e+07           1.445403   \n",
       "min    1.252200e+04  1.350000e+02           1.000000   \n",
       "25%    8.496119e+07  2.341322e+07           1.000000   \n",
       "50%    1.523890e+08  4.550514e+07           1.000000   \n",
       "75%    2.302709e+08  8.754595e+07           3.000000   \n",
       "max    4.438672e+08  1.895026e+08           8.000000   \n",
       "\n",
       "       discharge_disposition_id  admission_source_id  time_in_hospital  \\\n",
       "count             101766.000000        101766.000000     101766.000000   \n",
       "mean                   3.715642             5.754437          4.395987   \n",
       "std                    5.280166             4.064081          2.985108   \n",
       "min                    1.000000             1.000000          1.000000   \n",
       "25%                    1.000000             1.000000          2.000000   \n",
       "50%                    1.000000             7.000000          4.000000   \n",
       "75%                    4.000000             7.000000          6.000000   \n",
       "max                   28.000000            25.000000         14.000000   \n",
       "\n",
       "       num_lab_procedures  num_procedures  num_medications  number_outpatient  \\\n",
       "count       101766.000000   101766.000000    101766.000000      101766.000000   \n",
       "mean            43.095641        1.339730        16.021844           0.369357   \n",
       "std             19.674362        1.705807         8.127566           1.267265   \n",
       "min              1.000000        0.000000         1.000000           0.000000   \n",
       "25%             31.000000        0.000000        10.000000           0.000000   \n",
       "50%             44.000000        1.000000        15.000000           0.000000   \n",
       "75%             57.000000        2.000000        20.000000           0.000000   \n",
       "max            132.000000        6.000000        81.000000          42.000000   \n",
       "\n",
       "       number_emergency  number_inpatient  number_diagnoses  \n",
       "count     101766.000000     101766.000000     101766.000000  \n",
       "mean           0.197836          0.635566          7.422607  \n",
       "std            0.930472          1.262863          1.933600  \n",
       "min            0.000000          0.000000          1.000000  \n",
       "25%            0.000000          0.000000          6.000000  \n",
       "50%            0.000000          0.000000          8.000000  \n",
       "75%            0.000000          1.000000          9.000000  \n",
       "max           76.000000         21.000000         16.000000  "
      ]
     },
     "execution_count": 7,
     "metadata": {},
     "output_type": "execute_result"
    }
   ],
   "source": [
    "df.describe()"
   ]
  },
  {
   "cell_type": "code",
   "execution_count": 8,
   "metadata": {
    "scrolled": true
   },
   "outputs": [
    {
     "data": {
      "image/png": "[encoded data removed]",
      "text/plain": [
       "<Figure size 432x288 with 1 Axes>"
      ]
     },
     "metadata": {
      "needs_background": "light"
     },
     "output_type": "display_data"
    }
   ],
   "source": [
    "df['readmitted'].value_counts().plot(kind='bar')\n",
    "plt.title('Number of Readmitted Patients by Number of Days')\n",
    "plt.ylabel('Number of Patients')\n",
    "plt.xlabel('Number of Days')\n",
    "plt.xticks(rotation=45)\n",
    "plt.tight_layout()\n",
    "plt.savefig('Figures/unbalanced_bargraph.png')"
   ]
  },
  {
   "cell_type": "code",
   "execution_count": 10,
   "metadata": {},
   "outputs": [],
   "source": [
    "#Rebalance target variable\n",
    "YES = ['>30','<30']\n",
    "df['readmitted'] = df['readmitted'].replace(YES, 1)\n",
    "df['readmitted'] = df['readmitted'].replace('NO', 0)"
   ]
  },
  {
   "cell_type": "code",
   "execution_count": 11,
   "metadata": {},
   "outputs": [
    {
     "data": {
      "image/png": "[encoded data removed]",
      "text/plain": [
       "<Figure size 432x288 with 1 Axes>"
      ]
     },
     "metadata": {
      "needs_background": "light"
     },
     "output_type": "display_data"
    }
   ],
   "source": [
    "df['readmitted'].value_counts().plot(kind='bar')\n",
    "plt.title('Readmitted Patients vs. Never Returned')\n",
    "plt.xticks(ticks=[0,1],labels=['Never Admitted','Admitted'],rotation=45)\n",
    "plt.ylabel('Number of Patients')\n",
    "plt.tight_layout()\n",
    "plt.savefig('Figures/balanced_bargraph.png')"
   ]
  },
  {
   "cell_type": "code",
   "execution_count": 12,
   "metadata": {
    "scrolled": false
   },
   "outputs": [
    {
     "name": "stderr",
     "output_type": "stream",
     "text": [
      "C:\\Users\\Donghyeok\\Anaconda3\\lib\\site-packages\\pandas\\core\\ops\\array_ops.py:253: FutureWarning: elementwise comparison failed; returning scalar instead, but in the future will perform elementwise comparison\n",
      "  res_values = method(rvalues)\n"
     ]
    },
    {
     "name": "stdout",
     "output_type": "stream",
     "text": [
      "encounter_id 0 | 0%\n",
      "patient_nbr 0 | 0%\n",
      "race 2273 | 2%\n",
      "gender 0 | 0%\n",
      "age 0 | 0%\n",
      "weight 98569 | 97%\n",
      "admission_type_id 0 | 0%\n",
      "discharge_disposition_id 0 | 0%\n",
      "admission_source_id 0 | 0%\n",
      "time_in_hospital 0 | 0%\n",
      "payer_code 40256 | 40%\n",
      "medical_specialty 49949 | 49%\n",
      "num_lab_procedures 0 | 0%\n",
      "num_procedures 0 | 0%\n",
      "num_medications 0 | 0%\n",
      "number_outpatient 0 | 0%\n",
      "number_emergency 0 | 0%\n",
      "number_inpatient 0 | 0%\n",
      "diag_1 21 | 0%\n",
      "diag_2 358 | 0%\n",
      "diag_3 1423 | 1%\n",
      "number_diagnoses 0 | 0%\n",
      "max_glu_serum 0 | 0%\n",
      "A1Cresult 0 | 0%\n",
      "metformin 0 | 0%\n",
      "repaglinide 0 | 0%\n",
      "nateglinide 0 | 0%\n",
      "chlorpropamide 0 | 0%\n",
      "glimepiride 0 | 0%\n",
      "acetohexamide 0 | 0%\n",
      "glipizide 0 | 0%\n",
      "glyburide 0 | 0%\n",
      "tolbutamide 0 | 0%\n",
      "pioglitazone 0 | 0%\n",
      "rosiglitazone 0 | 0%\n",
      "acarbose 0 | 0%\n",
      "miglitol 0 | 0%\n",
      "troglitazone 0 | 0%\n",
      "tolazamide 0 | 0%\n",
      "examide 0 | 0%\n",
      "citoglipton 0 | 0%\n",
      "insulin 0 | 0%\n",
      "glyburide-metformin 0 | 0%\n",
      "glipizide-metformin 0 | 0%\n",
      "glimepiride-pioglitazone 0 | 0%\n",
      "metformin-rosiglitazone 0 | 0%\n",
      "metformin-pioglitazone 0 | 0%\n",
      "change 0 | 0%\n",
      "diabetesMed 0 | 0%\n",
      "readmitted 0 | 0%\n",
      "gender 3 | 0%\n"
     ]
    }
   ],
   "source": [
    "#Count number of missing values\n",
    "for col in df.columns:\n",
    "    count = df[col][df[col] == '?'].count()\n",
    "    print(col,count, '|',str(round(count/len(df[col]) * 100))+'%')\n",
    "#Gender needs to be counted separately because its null value is not \"?\"\n",
    "print('gender', df['gender'][df['gender'] == 'Unknown/Invalid'].count(), '|', str(round(df['gender'][df['gender'] == 'Unknown/Invalid'].count()/len(df[col]) * 100))+'%')"
   ]
  },
  {
   "cell_type": "code",
   "execution_count": 13,
   "metadata": {},
   "outputs": [
    {
     "data": {
      "image/png": "[encoded data removed]",
      "text/plain": [
       "<Figure size 432x288 with 1 Axes>"
      ]
     },
     "metadata": {
      "needs_background": "light"
     },
     "output_type": "display_data"
    },
    {
     "data": {
      "image/png": "[encoded data removed]",
      "text/plain": [
       "<Figure size 432x288 with 1 Axes>"
      ]
     },
     "metadata": {
      "needs_background": "light"
     },
     "output_type": "display_data"
    },
    {
     "data": {
      "image/png": "[encoded data removed]",
      "text/plain": [
       "<Figure size 432x288 with 1 Axes>"
      ]
     },
     "metadata": {
      "needs_background": "light"
     },
     "output_type": "display_data"
    },
    {
     "data": {
      "image/png": "[encoded data removed]",
      "text/plain": [
       "<Figure size 432x288 with 1 Axes>"
      ]
     },
     "metadata": {
      "needs_background": "light"
     },
     "output_type": "display_data"
    },
    {
     "data": {
      "image/png": "[encoded data removed]",
      "text/plain": [
       "<Figure size 432x288 with 1 Axes>"
      ]
     },
     "metadata": {
      "needs_background": "light"
     },
     "output_type": "display_data"
    },
    {
     "data": {
      "image/png": "[encoded data removed]",
      "text/plain": [
       "<Figure size 432x288 with 1 Axes>"
      ]
     },
     "metadata": {
      "needs_background": "light"
     },
     "output_type": "display_data"
    },
    {
     "data": {
      "image/png": "[encoded data removed]",
      "text/plain": [
       "<Figure size 432x288 with 1 Axes>"
      ]
     },
     "metadata": {
      "needs_background": "light"
     },
     "output_type": "display_data"
    },
    {
     "data": {
      "image/png": "[encoded data removed]",
      "text/plain": [
       "<Figure size 432x288 with 1 Axes>"
      ]
     },
     "metadata": {
      "needs_background": "light"
     },
     "output_type": "display_data"
    },
    {
     "data": {
      "image/png": "[encoded data removed]",
      "text/plain": [
       "<Figure size 432x288 with 1 Axes>"
      ]
     },
     "metadata": {
      "needs_background": "light"
     },
     "output_type": "display_data"
    },
    {
     "data": {
      "image/png": "[encoded data removed]",
      "text/plain": [
       "<Figure size 432x288 with 1 Axes>"
      ]
     },
     "metadata": {
      "needs_background": "light"
     },
     "output_type": "display_data"
    },
    {
     "data": {
      "image/png": "[encoded data removed]",
      "text/plain": [
       "<Figure size 432x288 with 1 Axes>"
      ]
     },
     "metadata": {
      "needs_background": "light"
     },
     "output_type": "display_data"
    },
    {
     "data": {
      "image/png": "[encoded data removed]",
      "text/plain": [
       "<Figure size 432x288 with 1 Axes>"
      ]
     },
     "metadata": {
      "needs_background": "light"
     },
     "output_type": "display_data"
    },
    {
     "data": {
      "image/png": "[encoded data removed]",
      "text/plain": [
       "<Figure size 432x288 with 1 Axes>"
      ]
     },
     "metadata": {
      "needs_background": "light"
     },
     "output_type": "display_data"
    },
    {
     "data": {
      "image/png": "[encoded data removed]",
      "text/plain": [
       "<Figure size 432x288 with 1 Axes>"
      ]
     },
     "metadata": {
      "needs_background": "light"
     },
     "output_type": "display_data"
    },
    {
     "data": {
      "image/png": "[encoded data removed]",
      "text/plain": [
       "<Figure size 432x288 with 1 Axes>"
      ]
     },
     "metadata": {
      "needs_background": "light"
     },
     "output_type": "display_data"
    },
    {
     "data": {
      "image/png": "[encoded data removed]",
      "text/plain": [
       "<Figure size 432x288 with 1 Axes>"
      ]
     },
     "metadata": {
      "needs_background": "light"
     },
     "output_type": "display_data"
    },
    {
     "data": {
      "image/png": "[encoded data removed]",
      "text/plain": [
       "<Figure size 432x288 with 1 Axes>"
      ]
     },
     "metadata": {
      "needs_background": "light"
     },
     "output_type": "display_data"
    },
    {
     "data": {
      "image/png": "[encoded data removed]",
      "text/plain": [
       "<Figure size 432x288 with 1 Axes>"
      ]
     },
     "metadata": {
      "needs_background": "light"
     },
     "output_type": "display_data"
    },
    {
     "data": {
      "image/png": "[encoded data removed]",
      "text/plain": [
       "<Figure size 432x288 with 1 Axes>"
      ]
     },
     "metadata": {
      "needs_background": "light"
     },
     "output_type": "display_data"
    },
    {
     "data": {
      "image/png": "[encoded data removed]",
      "text/plain": [
       "<Figure size 432x288 with 1 Axes>"
      ]
     },
     "metadata": {
      "needs_background": "light"
     },
     "output_type": "display_data"
    },
    {
     "data": {
      "image/png": "[encoded data removed]",
      "text/plain": [
       "<Figure size 432x288 with 1 Axes>"
      ]
     },
     "metadata": {
      "needs_background": "light"
     },
     "output_type": "display_data"
    },
    {
     "data": {
      "image/png": "[encoded data removed]",
      "text/plain": [
       "<Figure size 432x288 with 1 Axes>"
      ]
     },
     "metadata": {
      "needs_background": "light"
     },
     "output_type": "display_data"
    },
    {
     "data": {
      "image/png": "[encoded data removed]",
      "text/plain": [
       "<Figure size 432x288 with 1 Axes>"
      ]
     },
     "metadata": {
      "needs_background": "light"
     },
     "output_type": "display_data"
    },
    {
     "data": {
      "image/png": "[encoded data removed]",
      "text/plain": [
       "<Figure size 432x288 with 1 Axes>"
      ]
     },
     "metadata": {
      "needs_background": "light"
     },
     "output_type": "display_data"
    },
    {
     "data": {
      "image/png": "[encoded data removed]",
      "text/plain": [
       "<Figure size 432x288 with 1 Axes>"
      ]
     },
     "metadata": {
      "needs_background": "light"
     },
     "output_type": "display_data"
    },
    {
     "data": {
      "image/png": "[encoded data removed]",
      "text/plain": [
       "<Figure size 432x288 with 1 Axes>"
      ]
     },
     "metadata": {
      "needs_background": "light"
     },
     "output_type": "display_data"
    },
    {
     "data": {
      "image/png": "[encoded data removed]",
      "text/plain": [
       "<Figure size 432x288 with 1 Axes>"
      ]
     },
     "metadata": {
      "needs_background": "light"
     },
     "output_type": "display_data"
    },
    {
     "data": {
      "image/png": "[encoded data removed]",
      "text/plain": [
       "<Figure size 432x288 with 1 Axes>"
      ]
     },
     "metadata": {
      "needs_background": "light"
     },
     "output_type": "display_data"
    },
    {
     "data": {
      "image/png": "[encoded data removed]",
      "text/plain": [
       "<Figure size 432x288 with 1 Axes>"
      ]
     },
     "metadata": {
      "needs_background": "light"
     },
     "output_type": "display_data"
    },
    {
     "data": {
      "image/png": "[encoded data removed]",
      "text/plain": [
       "<Figure size 432x288 with 1 Axes>"
      ]
     },
     "metadata": {
      "needs_background": "light"
     },
     "output_type": "display_data"
    },
    {
     "data": {
      "image/png": "[encoded data removed]",
      "text/plain": [
       "<Figure size 432x288 with 1 Axes>"
      ]
     },
     "metadata": {
      "needs_background": "light"
     },
     "output_type": "display_data"
    },
    {
     "data": {
      "image/png": "[encoded data removed]",
      "text/plain": [
       "<Figure size 432x288 with 1 Axes>"
      ]
     },
     "metadata": {
      "needs_background": "light"
     },
     "output_type": "display_data"
    },
    {
     "data": {
      "image/png": "[encoded data removed]",
      "text/plain": [
       "<Figure size 432x288 with 1 Axes>"
      ]
     },
     "metadata": {
      "needs_background": "light"
     },
     "output_type": "display_data"
    },
    {
     "data": {
      "image/png": "[encoded data removed]",
      "text/plain": [
       "<Figure size 432x288 with 1 Axes>"
      ]
     },
     "metadata": {
      "needs_background": "light"
     },
     "output_type": "display_data"
    },
    {
     "data": {
      "image/png": "[encoded data removed]",
      "text/plain": [
       "<Figure size 432x288 with 1 Axes>"
      ]
     },
     "metadata": {
      "needs_background": "light"
     },
     "output_type": "display_data"
    },
    {
     "data": {
      "image/png": "[encoded data removed]",
      "text/plain": [
       "<Figure size 432x288 with 1 Axes>"
      ]
     },
     "metadata": {
      "needs_background": "light"
     },
     "output_type": "display_data"
    },
    {
     "data": {
      "image/png": "[encoded data removed]",
      "text/plain": [
       "<Figure size 432x288 with 1 Axes>"
      ]
     },
     "metadata": {
      "needs_background": "light"
     },
     "output_type": "display_data"
    },
    {
     "data": {
      "image/png": "[encoded data removed]",
      "text/plain": [
       "<Figure size 432x288 with 1 Axes>"
      ]
     },
     "metadata": {
      "needs_background": "light"
     },
     "output_type": "display_data"
    },
    {
     "data": {
      "image/png": "[encoded data removed]",
      "text/plain": [
       "<Figure size 432x288 with 1 Axes>"
      ]
     },
     "metadata": {
      "needs_background": "light"
     },
     "output_type": "display_data"
    },
    {
     "data": {
      "image/png": "[encoded data removed]",
      "text/plain": [
       "<Figure size 432x288 with 1 Axes>"
      ]
     },
     "metadata": {
      "needs_background": "light"
     },
     "output_type": "display_data"
    },
    {
     "data": {
      "image/png": "[encoded data removed]",
      "text/plain": [
       "<Figure size 432x288 with 1 Axes>"
      ]
     },
     "metadata": {
      "needs_background": "light"
     },
     "output_type": "display_data"
    },
    {
     "data": {
      "image/png": "[encoded data removed]",
      "text/plain": [
       "<Figure size 432x288 with 1 Axes>"
      ]
     },
     "metadata": {
      "needs_background": "light"
     },
     "output_type": "display_data"
    },
    {
     "data": {
      "image/png": "[encoded data removed]",
      "text/plain": [
       "<Figure size 432x288 with 1 Axes>"
      ]
     },
     "metadata": {
      "needs_background": "light"
     },
     "output_type": "display_data"
    },
    {
     "data": {
      "image/png": "[encoded data removed]",
      "text/plain": [
       "<Figure size 432x288 with 1 Axes>"
      ]
     },
     "metadata": {
      "needs_background": "light"
     },
     "output_type": "display_data"
    },
    {
     "data": {
      "image/png": "[encoded data removed]",
      "text/plain": [
       "<Figure size 432x288 with 1 Axes>"
      ]
     },
     "metadata": {
      "needs_background": "light"
     },
     "output_type": "display_data"
    },
    {
     "data": {
      "image/png": "[encoded data removed]",
      "text/plain": [
       "<Figure size 432x288 with 1 Axes>"
      ]
     },
     "metadata": {
      "needs_background": "light"
     },
     "output_type": "display_data"
    },
    {
     "data": {
      "image/png": "[encoded data removed]",
      "text/plain": [
       "<Figure size 432x288 with 1 Axes>"
      ]
     },
     "metadata": {
      "needs_background": "light"
     },
     "output_type": "display_data"
    },
    {
     "data": {
      "image/png": "[encoded data removed]",
      "text/plain": [
       "<Figure size 432x288 with 1 Axes>"
      ]
     },
     "metadata": {
      "needs_background": "light"
     },
     "output_type": "display_data"
    },
    {
     "data": {
      "image/png": "[encoded data removed]",
      "text/plain": [
       "<Figure size 432x288 with 1 Axes>"
      ]
     },
     "metadata": {
      "needs_background": "light"
     },
     "output_type": "display_data"
    },
    {
     "data": {
      "image/png": "[encoded data removed]",
      "text/plain": [
       "<Figure size 432x288 with 1 Axes>"
      ]
     },
     "metadata": {
      "needs_background": "light"
     },
     "output_type": "display_data"
    }
   ],
   "source": [
    "for x in df.columns:\n",
    "    if x == 'categorical':\n",
    "        plt.bar(df[x])\n",
    "    else:\n",
    "        plt.hist(df[x])\n",
    "    plt.title(x)\n",
    "    plt.show()"
   ]
  },
  {
   "cell_type": "code",
   "execution_count": 14,
   "metadata": {},
   "outputs": [],
   "source": [
    "#These variables only have one value\n",
    "df.drop(['examide','metformin-rosiglitazone','citoglipton'], axis=1, inplace=True)\n",
    "\n",
    "#Drop columns with missing values & unnecessary information\n",
    "df.drop(['encounter_id', 'patient_nbr', 'weight', 'payer_code', 'medical_specialty'], axis=1, inplace=True)\n",
    "\n",
    "#Drop those with missing gender and race\n",
    "df = df[df['gender'] != 'Unknown/Invalid']\n",
    "df = df[df['race'] != '?']"
   ]
  },
  {
   "cell_type": "code",
   "execution_count": 15,
   "metadata": {
    "scrolled": true
   },
   "outputs": [],
   "source": [
    "#Change age into median values\n",
    "age_dict = {\n",
    "    '[0-10)': 5,\n",
    "    '[10-20)': 15, \n",
    "    '[20-30)': 25, \n",
    "    '[30-40)': 35, \n",
    "    '[40-50)': 45, \n",
    "    '[50-60)': 55, \n",
    "    '[60-70)': 65, \n",
    "    '[70-80)': 75, \n",
    "    '[80-90)': 85, \n",
    "    '[90-100)': 95 \n",
    "}\n",
    "df['Age'] = df['age'].map(age_dict)\n",
    "df.drop('age', axis=1, inplace=True)\n",
    "\n",
    "# Encode the non-numeric values\n",
    "df['change'] = df['change'].replace('Ch', 1)\n",
    "df['change'] = df['change'].replace('No', 0)\n",
    "\n",
    "df['gender'] = df['gender'].replace('Male', 1)\n",
    "df['gender'] = df['gender'].replace('Female', 0)\n",
    "\n",
    "df['diabetesMed'] = df['diabetesMed'].replace('Yes', 1)\n",
    "df['diabetesMed'] = df['diabetesMed'].replace('No', 0)\n",
    "\n",
    "#Ordinal Encoding (Explain in data-wrangling section of the report!!)\n",
    "df['A1Cresult'] = df['A1Cresult'].replace('Norm', 0)\n",
    "df['A1Cresult'] = df['A1Cresult'].replace('>7', 1)\n",
    "df['A1Cresult'] = df['A1Cresult'].replace('>8', 2)\n",
    "df['A1Cresult'] = df['A1Cresult'].replace('None', -99)\n",
    "\n",
    "df['max_glu_serum'] = df['max_glu_serum'].replace('Norm', 0)\n",
    "df['max_glu_serum'] = df['max_glu_serum'].replace('>200', 1)\n",
    "df['max_glu_serum'] = df['max_glu_serum'].replace('>300', 2)\n",
    "df['max_glu_serum'] = df['max_glu_serum'].replace('None', -99)\n",
    "\n",
    "df['hospital_visits'] = df['number_outpatient'] + df['number_emergency'] + df['number_inpatient']\n",
    "df['service_usage'] = df['num_procedures'] + df['num_medications'] + df['num_lab_procedures']"
   ]
  },
  {
   "cell_type": "code",
   "execution_count": 16,
   "metadata": {
    "scrolled": true
   },
   "outputs": [
    {
     "data": {
      "image/png": "[encoded data removed]",
      "text/plain": [
       "<Figure size 432x288 with 1 Axes>"
      ]
     },
     "metadata": {
      "needs_background": "light"
     },
     "output_type": "display_data"
    },
    {
     "data": {
      "image/png": "[encoded data removed]",
      "text/plain": [
       "<Figure size 432x288 with 1 Axes>"
      ]
     },
     "metadata": {
      "needs_background": "light"
     },
     "output_type": "display_data"
    },
    {
     "data": {
      "image/png": "[encoded data removed]",
      "text/plain": [
       "<Figure size 432x288 with 1 Axes>"
      ]
     },
     "metadata": {
      "needs_background": "light"
     },
     "output_type": "display_data"
    },
    {
     "data": {
      "image/png": "[encoded data removed]",
      "text/plain": [
       "<Figure size 432x288 with 1 Axes>"
      ]
     },
     "metadata": {
      "needs_background": "light"
     },
     "output_type": "display_data"
    },
    {
     "data": {
      "image/png": "[encoded data removed]",
      "text/plain": [
       "<Figure size 432x288 with 1 Axes>"
      ]
     },
     "metadata": {
      "needs_background": "light"
     },
     "output_type": "display_data"
    },
    {
     "data": {
      "image/png": "[encoded data removed]",
      "text/plain": [
       "<Figure size 432x288 with 1 Axes>"
      ]
     },
     "metadata": {
      "needs_background": "light"
     },
     "output_type": "display_data"
    },
    {
     "data": {
      "image/png": "[encoded data removed]",
      "text/plain": [
       "<Figure size 432x288 with 1 Axes>"
      ]
     },
     "metadata": {
      "needs_background": "light"
     },
     "output_type": "display_data"
    },
    {
     "data": {
      "image/png": "[encoded data removed]",
      "text/plain": [
       "<Figure size 432x288 with 1 Axes>"
      ]
     },
     "metadata": {
      "needs_background": "light"
     },
     "output_type": "display_data"
    },
    {
     "data": {
      "image/png": "[encoded data removed]",
      "text/plain": [
       "<Figure size 432x288 with 1 Axes>"
      ]
     },
     "metadata": {
      "needs_background": "light"
     },
     "output_type": "display_data"
    },
    {
     "data": {
      "image/png": "[encoded data removed]",
      "text/plain": [
       "<Figure size 432x288 with 1 Axes>"
      ]
     },
     "metadata": {
      "needs_background": "light"
     },
     "output_type": "display_data"
    },
    {
     "data": {
      "image/png": "[encoded data removed]",
      "text/plain": [
       "<Figure size 432x288 with 1 Axes>"
      ]
     },
     "metadata": {
      "needs_background": "light"
     },
     "output_type": "display_data"
    },
    {
     "data": {
      "image/png": "[encoded data removed]",
      "text/plain": [
       "<Figure size 432x288 with 1 Axes>"
      ]
     },
     "metadata": {
      "needs_background": "light"
     },
     "output_type": "display_data"
    },
    {
     "data": {
      "image/png": "[encoded data removed]",
      "text/plain": [
       "<Figure size 432x288 with 1 Axes>"
      ]
     },
     "metadata": {
      "needs_background": "light"
     },
     "output_type": "display_data"
    },
    {
     "data": {
      "image/png": "[encoded data removed]",
      "text/plain": [
       "<Figure size 432x288 with 1 Axes>"
      ]
     },
     "metadata": {
      "needs_background": "light"
     },
     "output_type": "display_data"
    },
    {
     "data": {
      "image/png": "[encoded data removed]",
      "text/plain": [
       "<Figure size 432x288 with 1 Axes>"
      ]
     },
     "metadata": {
      "needs_background": "light"
     },
     "output_type": "display_data"
    },
    {
     "data": {
      "image/png": "[encoded data removed]",
      "text/plain": [
       "<Figure size 432x288 with 1 Axes>"
      ]
     },
     "metadata": {
      "needs_background": "light"
     },
     "output_type": "display_data"
    },
    {
     "data": {
      "image/png": "[encoded data removed]",
      "text/plain": [
       "<Figure size 432x288 with 1 Axes>"
      ]
     },
     "metadata": {
      "needs_background": "light"
     },
     "output_type": "display_data"
    },
    {
     "data": {
      "image/png": "[encoded data removed]",
      "text/plain": [
       "<Figure size 432x288 with 1 Axes>"
      ]
     },
     "metadata": {
      "needs_background": "light"
     },
     "output_type": "display_data"
    },
    {
     "data": {
      "image/png": "[encoded data removed]",
      "text/plain": [
       "<Figure size 432x288 with 1 Axes>"
      ]
     },
     "metadata": {
      "needs_background": "light"
     },
     "output_type": "display_data"
    },
    {
     "data": {
      "image/png": "[encoded data removed]",
      "text/plain": [
       "<Figure size 432x288 with 1 Axes>"
      ]
     },
     "metadata": {
      "needs_background": "light"
     },
     "output_type": "display_data"
    }
   ],
   "source": [
    "medicines = ['metformin', 'repaglinide', 'nateglinide', 'chlorpropamide', \n",
    "             'glimepiride', 'acetohexamide', 'glipizide', 'glyburide', \n",
    "             'tolbutamide', 'pioglitazone', 'rosiglitazone', 'acarbose', \n",
    "             'miglitol', 'troglitazone', 'tolazamide', 'insulin',\n",
    "             'glyburide-metformin', 'glipizide-metformin', 'glimepiride-pioglitazone', \n",
    "             'metformin-pioglitazone']\n",
    "\n",
    "#Drug being given vs. Drug not being given\n",
    "#Simplifies dataframe, but does not lose any information\n",
    "for x in medicines:\n",
    "     df[x] = df[x].replace('No', 0)\n",
    "     df[x] = df[x].replace('Steady', 1)\n",
    "     df[x] = df[x].replace('Up', 1)\n",
    "     df[x] = df[x].replace('Down', 1)\n",
    "    \n",
    "#Group by target variable to look at ratio\n",
    "for x in medicines:\n",
    "     df.groupby([x])[['readmitted']].mean().plot(kind='bar').set_ylabel('Count')\n",
    "     df.groupby([x])[['readmitted']].mean()"
   ]
  },
  {
   "cell_type": "code",
   "execution_count": 17,
   "metadata": {},
   "outputs": [],
   "source": [
    "#Group up codes based on ICD9 coding: https://www.cdc.gov/nchs/data/icd/icd9cm_guidelines_2011.pdf\n",
    "\n",
    "# Codes containing V: Health Services that don't require diagnosis\n",
    "# Codes containing E: Environmental cause of health problem (injury/poison)\n",
    "# Codes containing ?: No documentation\n",
    "df['diag_1'] = df['diag_1'].replace('?', 0)\n",
    "df.loc[df['diag_1'].str.contains('V', na=False), 'diag_1'] = 0\n",
    "df.loc[df['diag_1'].str.contains('E', na=False), 'diag_1'] = 0\n",
    "df['diag_2'] = df['diag_2'].replace('?', 0)\n",
    "df.loc[df['diag_2'].str.contains('V', na=False), 'diag_2'] = 0\n",
    "df.loc[df['diag_2'].str.contains('E', na=False), 'diag_2'] = 0\n",
    "df['diag_3'] = df['diag_3'].replace('?', 0)\n",
    "df.loc[df['diag_3'].str.contains('V', na=False), 'diag_3'] = 0\n",
    "df.loc[df['diag_3'].str.contains('E', na=False), 'diag_3'] = 0\n"
   ]
  },
  {
   "cell_type": "code",
   "execution_count": 18,
   "metadata": {},
   "outputs": [],
   "source": [
    "df['diag_1'] = df['diag_1'].astype(float)\n",
    "df['diag_2'] = df['diag_2'].astype(float)\n",
    "df['diag_3'] = df['diag_3'].astype(float)"
   ]
  },
  {
   "cell_type": "code",
   "execution_count": 19,
   "metadata": {},
   "outputs": [],
   "source": [
    "# A: Infectious & Parasitic Diseases\n",
    "# B: Neoplasms\n",
    "# C: Endocrine, Metabolic Diseases\n",
    "# D: Blood Diseases\n",
    "# E: Mental Disorders\n",
    "# F: Nervous System and Sense Diseases\n",
    "# G: Circulatory Disesases\n",
    "# H: Respiratory Diseases\n",
    "# I: Digestive Diseases\n",
    "# J: Genitourinary Diseases\n",
    "# K: Pregnancy Complications\n",
    "# L: Skin Diseases\n",
    "# M: Musculoskeletal Diseases\n",
    "# N: Congenital Anomalies\n",
    "# O: Newborn Guidelines\n",
    "# P: Signs and Symptoms \n",
    "# Q: Injury and Poisoning\n",
    "\n",
    "df.loc[(df['diag_1'] > 0 ) & (df['diag_1'] <= 139), 'diag_1'] = 1\n",
    "df.loc[(df['diag_1'] > 139 ) & (df['diag_1'] <= 239), 'diag_1'] = 2\n",
    "df.loc[(df['diag_1'] > 239 ) & (df['diag_1'] <= 279), 'diag_1'] = 3\n",
    "df.loc[(df['diag_1'] > 279 ) & (df['diag_1'] <= 289), 'diag_1'] = 4\n",
    "df.loc[(df['diag_1'] > 289 ) & (df['diag_1'] <= 319), 'diag_1'] = 5\n",
    "df.loc[(df['diag_1'] > 319 ) & (df['diag_1'] <= 389), 'diag_1'] = 6\n",
    "df.loc[(df['diag_1'] > 389 ) & (df['diag_1'] <= 459), 'diag_1'] = 7\n",
    "df.loc[(df['diag_1'] > 459 ) & (df['diag_1'] <= 519), 'diag_1'] = 8\n",
    "df.loc[(df['diag_1'] > 519 ) & (df['diag_1'] <= 579), 'diag_1'] = 9\n",
    "df.loc[(df['diag_1'] > 579 ) & (df['diag_1'] <= 629), 'diag_1'] = 10\n",
    "df.loc[(df['diag_1'] > 629 ) & (df['diag_1'] <= 679), 'diag_1'] = 11\n",
    "df.loc[(df['diag_1'] > 679 ) & (df['diag_1'] <= 709), 'diag_1'] = 12\n",
    "df.loc[(df['diag_1'] > 709 ) & (df['diag_1'] <= 739), 'diag_1'] = 13\n",
    "df.loc[(df['diag_1'] > 739 ) & (df['diag_1'] <= 759), 'diag_1'] = 14\n",
    "df.loc[(df['diag_1'] > 759 ) & (df['diag_1'] <= 779), 'diag_1'] = 15\n",
    "df.loc[(df['diag_1'] > 779 ) & (df['diag_1'] <= 799), 'diag_1'] = 16\n",
    "df.loc[(df['diag_1'] > 799 ) & (df['diag_1'] <= 999), 'diag_1'] = 17\n",
    "\n",
    "df['diag_1'] = df['diag_1'].replace(1, 'A')\n",
    "df['diag_1'] = df['diag_1'].replace(2, 'B')\n",
    "df['diag_1'] = df['diag_1'].replace(3, 'C')\n",
    "df['diag_1'] = df['diag_1'].replace(4, 'D')\n",
    "df['diag_1'] = df['diag_1'].replace(5, 'E')\n",
    "df['diag_1'] = df['diag_1'].replace(6, 'F')\n",
    "df['diag_1'] = df['diag_1'].replace(7, 'G')\n",
    "df['diag_1'] = df['diag_1'].replace(8, 'H')\n",
    "df['diag_1'] = df['diag_1'].replace(9, 'I')\n",
    "df['diag_1'] = df['diag_1'].replace(10, 'J')\n",
    "df['diag_1'] = df['diag_1'].replace(11, 'K')\n",
    "df['diag_1'] = df['diag_1'].replace(12, 'L')\n",
    "df['diag_1'] = df['diag_1'].replace(13, 'M')\n",
    "df['diag_1'] = df['diag_1'].replace(14, 'N')\n",
    "df['diag_1'] = df['diag_1'].replace(15, 'O')\n",
    "df['diag_1'] = df['diag_1'].replace(16, 'P')\n",
    "df['diag_1'] = df['diag_1'].replace(17, 'Q')"
   ]
  },
  {
   "cell_type": "code",
   "execution_count": 20,
   "metadata": {},
   "outputs": [],
   "source": [
    "df.loc[(df['diag_2'] > 0 ) & (df['diag_2'] <= 139), 'diag_2'] = 1\n",
    "df.loc[(df['diag_2'] > 139 ) & (df['diag_2'] <= 239), 'diag_2'] = 2\n",
    "df.loc[(df['diag_2'] > 239 ) & (df['diag_2'] <= 279), 'diag_2'] = 3\n",
    "df.loc[(df['diag_2'] > 279 ) & (df['diag_2'] <= 289), 'diag_2'] = 4\n",
    "df.loc[(df['diag_2'] > 289 ) & (df['diag_2'] <= 319), 'diag_2'] = 5\n",
    "df.loc[(df['diag_2'] > 319 ) & (df['diag_2'] <= 389), 'diag_2'] = 6\n",
    "df.loc[(df['diag_2'] > 389 ) & (df['diag_2'] <= 459), 'diag_2'] = 7\n",
    "df.loc[(df['diag_2'] > 459 ) & (df['diag_2'] <= 519), 'diag_2'] = 8\n",
    "df.loc[(df['diag_2'] > 519 ) & (df['diag_2'] <= 579), 'diag_2'] = 9\n",
    "df.loc[(df['diag_2'] > 579 ) & (df['diag_2'] <= 629), 'diag_2'] = 10\n",
    "df.loc[(df['diag_2'] > 629 ) & (df['diag_2'] <= 679), 'diag_2'] = 11\n",
    "df.loc[(df['diag_2'] > 679 ) & (df['diag_2'] <= 709), 'diag_2'] = 12\n",
    "df.loc[(df['diag_2'] > 709 ) & (df['diag_2'] <= 739), 'diag_2'] = 13\n",
    "df.loc[(df['diag_2'] > 739 ) & (df['diag_2'] <= 759), 'diag_2'] = 14\n",
    "df.loc[(df['diag_2'] > 759 ) & (df['diag_2'] <= 779), 'diag_2'] = 15\n",
    "df.loc[(df['diag_2'] > 779 ) & (df['diag_2'] <= 799), 'diag_2'] = 16\n",
    "df.loc[(df['diag_2'] > 799 ) & (df['diag_2'] <= 999), 'diag_2'] = 17\n",
    "\n",
    "df['diag_2'] = df['diag_2'].replace(1, 'A')\n",
    "df['diag_2'] = df['diag_2'].replace(2, 'B')\n",
    "df['diag_2'] = df['diag_2'].replace(3, 'C')\n",
    "df['diag_2'] = df['diag_2'].replace(4, 'D')\n",
    "df['diag_2'] = df['diag_2'].replace(5, 'E')\n",
    "df['diag_2'] = df['diag_2'].replace(6, 'F')\n",
    "df['diag_2'] = df['diag_2'].replace(7, 'G')\n",
    "df['diag_2'] = df['diag_2'].replace(8, 'H')\n",
    "df['diag_2'] = df['diag_2'].replace(9, 'I')\n",
    "df['diag_2'] = df['diag_2'].replace(10, 'J')\n",
    "df['diag_2'] = df['diag_2'].replace(11, 'K')\n",
    "df['diag_2'] = df['diag_2'].replace(12, 'L')\n",
    "df['diag_2'] = df['diag_2'].replace(13, 'M')\n",
    "df['diag_2'] = df['diag_2'].replace(14, 'N')\n",
    "df['diag_2'] = df['diag_2'].replace(15, 'O')\n",
    "df['diag_2'] = df['diag_2'].replace(16, 'P')\n",
    "df['diag_2'] = df['diag_2'].replace(17, 'Q')"
   ]
  },
  {
   "cell_type": "code",
   "execution_count": 21,
   "metadata": {},
   "outputs": [],
   "source": [
    "df.loc[(df['diag_3'] > 0 ) & (df['diag_3'] <= 139), 'diag_3'] = 1\n",
    "df.loc[(df['diag_3'] > 139 ) & (df['diag_3'] <= 239), 'diag_3'] = 2\n",
    "df.loc[(df['diag_3'] > 239 ) & (df['diag_3'] <= 279), 'diag_3'] = 3\n",
    "df.loc[(df['diag_3'] > 279 ) & (df['diag_3'] <= 289), 'diag_3'] = 4\n",
    "df.loc[(df['diag_3'] > 289 ) & (df['diag_3'] <= 319), 'diag_3'] = 5\n",
    "df.loc[(df['diag_3'] > 319 ) & (df['diag_3'] <= 389), 'diag_3'] = 6\n",
    "df.loc[(df['diag_3'] > 389 ) & (df['diag_3'] <= 459), 'diag_3'] = 7\n",
    "df.loc[(df['diag_3'] > 459 ) & (df['diag_3'] <= 519), 'diag_3'] = 8\n",
    "df.loc[(df['diag_3'] > 519 ) & (df['diag_3'] <= 579), 'diag_3'] = 9\n",
    "df.loc[(df['diag_3'] > 579 ) & (df['diag_3'] <= 629), 'diag_3'] = 10\n",
    "df.loc[(df['diag_3'] > 629 ) & (df['diag_3'] <= 679), 'diag_3'] = 11\n",
    "df.loc[(df['diag_3'] > 679 ) & (df['diag_3'] <= 709), 'diag_3'] = 12\n",
    "df.loc[(df['diag_3'] > 709 ) & (df['diag_3'] <= 739), 'diag_3'] = 13\n",
    "df.loc[(df['diag_3'] > 739 ) & (df['diag_3'] <= 759), 'diag_3'] = 14\n",
    "df.loc[(df['diag_3'] > 759 ) & (df['diag_3'] <= 779), 'diag_3'] = 15\n",
    "df.loc[(df['diag_3'] > 779 ) & (df['diag_3'] <= 799), 'diag_3'] = 16\n",
    "df.loc[(df['diag_3'] > 799 ) & (df['diag_3'] <= 999), 'diag_3'] = 17\n",
    "\n",
    "df['diag_3'] = df['diag_3'].replace(1, 'A')\n",
    "df['diag_3'] = df['diag_3'].replace(2, 'B')\n",
    "df['diag_3'] = df['diag_3'].replace(3, 'C')\n",
    "df['diag_3'] = df['diag_3'].replace(4, 'D')\n",
    "df['diag_3'] = df['diag_3'].replace(5, 'E')\n",
    "df['diag_3'] = df['diag_3'].replace(6, 'F')\n",
    "df['diag_3'] = df['diag_3'].replace(7, 'G')\n",
    "df['diag_3'] = df['diag_3'].replace(8, 'H')\n",
    "df['diag_3'] = df['diag_3'].replace(9, 'I')\n",
    "df['diag_3'] = df['diag_3'].replace(10, 'J')\n",
    "df['diag_3'] = df['diag_3'].replace(11, 'K')\n",
    "df['diag_3'] = df['diag_3'].replace(12, 'L')\n",
    "df['diag_3'] = df['diag_3'].replace(13, 'M')\n",
    "df['diag_3'] = df['diag_3'].replace(14, 'N')\n",
    "df['diag_3'] = df['diag_3'].replace(15, 'O')\n",
    "df['diag_3'] = df['diag_3'].replace(16, 'P')\n",
    "df['diag_3'] = df['diag_3'].replace(17, 'Q')"
   ]
  },
  {
   "cell_type": "code",
   "execution_count": 22,
   "metadata": {},
   "outputs": [],
   "source": [
    "mapping = pd.read_csv(path + 'IDs_mapping.csv')\n",
    "mapping1 = pd.DataFrame(mapping.loc[:8])\n",
    "mapping2 = pd.DataFrame(mapping.loc[9:39])\n",
    "mapping3 = pd.DataFrame(mapping.loc[41:])"
   ]
  },
  {
   "cell_type": "code",
   "execution_count": 23,
   "metadata": {},
   "outputs": [
    {
     "data": {
      "text/html": [
       "<div>\n",
       "<style scoped>\n",
       "    .dataframe tbody tr th:only-of-type {\n",
       "        vertical-align: middle;\n",
       "    }\n",
       "\n",
       "    .dataframe tbody tr th {\n",
       "        vertical-align: top;\n",
       "    }\n",
       "\n",
       "    .dataframe thead th {\n",
       "        text-align: right;\n",
       "    }\n",
       "</style>\n",
       "<table border=\"1\" class=\"dataframe\">\n",
       "  <thead>\n",
       "    <tr style=\"text-align: right;\">\n",
       "      <th></th>\n",
       "      <th>admission_type_id</th>\n",
       "      <th>description</th>\n",
       "    </tr>\n",
       "  </thead>\n",
       "  <tbody>\n",
       "    <tr>\n",
       "      <th>0</th>\n",
       "      <td>1</td>\n",
       "      <td>Emergency</td>\n",
       "    </tr>\n",
       "    <tr>\n",
       "      <th>1</th>\n",
       "      <td>2</td>\n",
       "      <td>Urgent</td>\n",
       "    </tr>\n",
       "    <tr>\n",
       "      <th>2</th>\n",
       "      <td>3</td>\n",
       "      <td>Elective</td>\n",
       "    </tr>\n",
       "    <tr>\n",
       "      <th>3</th>\n",
       "      <td>4</td>\n",
       "      <td>Newborn</td>\n",
       "    </tr>\n",
       "    <tr>\n",
       "      <th>4</th>\n",
       "      <td>5</td>\n",
       "      <td>Not Available</td>\n",
       "    </tr>\n",
       "    <tr>\n",
       "      <th>5</th>\n",
       "      <td>6</td>\n",
       "      <td>NaN</td>\n",
       "    </tr>\n",
       "    <tr>\n",
       "      <th>6</th>\n",
       "      <td>7</td>\n",
       "      <td>Trauma Center</td>\n",
       "    </tr>\n",
       "    <tr>\n",
       "      <th>7</th>\n",
       "      <td>8</td>\n",
       "      <td>Not Mapped</td>\n",
       "    </tr>\n",
       "  </tbody>\n",
       "</table>\n",
       "</div>"
      ],
      "text/plain": [
       "  admission_type_id    description\n",
       "0                 1      Emergency\n",
       "1                 2         Urgent\n",
       "2                 3       Elective\n",
       "3                 4        Newborn\n",
       "4                 5  Not Available\n",
       "5                 6            NaN\n",
       "6                 7  Trauma Center\n",
       "7                 8     Not Mapped"
      ]
     },
     "execution_count": 23,
     "metadata": {},
     "output_type": "execute_result"
    }
   ],
   "source": [
    "mapping1.iloc[:8]"
   ]
  },
  {
   "cell_type": "code",
   "execution_count": 24,
   "metadata": {
    "scrolled": true
   },
   "outputs": [
    {
     "data": {
      "text/html": [
       "<div>\n",
       "<style scoped>\n",
       "    .dataframe tbody tr th:only-of-type {\n",
       "        vertical-align: middle;\n",
       "    }\n",
       "\n",
       "    .dataframe tbody tr th {\n",
       "        vertical-align: top;\n",
       "    }\n",
       "\n",
       "    .dataframe thead th {\n",
       "        text-align: right;\n",
       "    }\n",
       "</style>\n",
       "<table border=\"1\" class=\"dataframe\">\n",
       "  <thead>\n",
       "    <tr style=\"text-align: right;\">\n",
       "      <th></th>\n",
       "      <th>discharge_disposition_id</th>\n",
       "      <th>description</th>\n",
       "    </tr>\n",
       "  </thead>\n",
       "  <tbody>\n",
       "    <tr>\n",
       "      <th>1</th>\n",
       "      <td>1</td>\n",
       "      <td>Discharged to home</td>\n",
       "    </tr>\n",
       "    <tr>\n",
       "      <th>2</th>\n",
       "      <td>2</td>\n",
       "      <td>Discharged/transferred to another short term h...</td>\n",
       "    </tr>\n",
       "    <tr>\n",
       "      <th>3</th>\n",
       "      <td>3</td>\n",
       "      <td>Discharged/transferred to SNF</td>\n",
       "    </tr>\n",
       "    <tr>\n",
       "      <th>4</th>\n",
       "      <td>4</td>\n",
       "      <td>Discharged/transferred to ICF</td>\n",
       "    </tr>\n",
       "    <tr>\n",
       "      <th>5</th>\n",
       "      <td>5</td>\n",
       "      <td>Discharged/transferred to another type of inpa...</td>\n",
       "    </tr>\n",
       "    <tr>\n",
       "      <th>6</th>\n",
       "      <td>6</td>\n",
       "      <td>Discharged/transferred to home with home healt...</td>\n",
       "    </tr>\n",
       "    <tr>\n",
       "      <th>7</th>\n",
       "      <td>7</td>\n",
       "      <td>Left AMA</td>\n",
       "    </tr>\n",
       "    <tr>\n",
       "      <th>8</th>\n",
       "      <td>8</td>\n",
       "      <td>Discharged/transferred to home under care of H...</td>\n",
       "    </tr>\n",
       "    <tr>\n",
       "      <th>9</th>\n",
       "      <td>9</td>\n",
       "      <td>Admitted as an inpatient to this hospital</td>\n",
       "    </tr>\n",
       "    <tr>\n",
       "      <th>10</th>\n",
       "      <td>10</td>\n",
       "      <td>Neonate discharged to another hospital for neo...</td>\n",
       "    </tr>\n",
       "    <tr>\n",
       "      <th>11</th>\n",
       "      <td>11</td>\n",
       "      <td>Expired</td>\n",
       "    </tr>\n",
       "    <tr>\n",
       "      <th>12</th>\n",
       "      <td>12</td>\n",
       "      <td>Still patient or expected to return for outpat...</td>\n",
       "    </tr>\n",
       "    <tr>\n",
       "      <th>13</th>\n",
       "      <td>13</td>\n",
       "      <td>Hospice / home</td>\n",
       "    </tr>\n",
       "    <tr>\n",
       "      <th>14</th>\n",
       "      <td>14</td>\n",
       "      <td>Hospice / medical facility</td>\n",
       "    </tr>\n",
       "    <tr>\n",
       "      <th>15</th>\n",
       "      <td>15</td>\n",
       "      <td>Discharged/transferred within this institution...</td>\n",
       "    </tr>\n",
       "    <tr>\n",
       "      <th>16</th>\n",
       "      <td>16</td>\n",
       "      <td>Discharged/transferred/referred another instit...</td>\n",
       "    </tr>\n",
       "    <tr>\n",
       "      <th>17</th>\n",
       "      <td>17</td>\n",
       "      <td>Discharged/transferred/referred to this instit...</td>\n",
       "    </tr>\n",
       "    <tr>\n",
       "      <th>18</th>\n",
       "      <td>18</td>\n",
       "      <td>NaN</td>\n",
       "    </tr>\n",
       "    <tr>\n",
       "      <th>19</th>\n",
       "      <td>19</td>\n",
       "      <td>Expired at home. Medicaid only, hospice.</td>\n",
       "    </tr>\n",
       "    <tr>\n",
       "      <th>20</th>\n",
       "      <td>20</td>\n",
       "      <td>Expired in a medical facility. Medicaid only, ...</td>\n",
       "    </tr>\n",
       "    <tr>\n",
       "      <th>21</th>\n",
       "      <td>21</td>\n",
       "      <td>Expired, place unknown. Medicaid only, hospice.</td>\n",
       "    </tr>\n",
       "    <tr>\n",
       "      <th>22</th>\n",
       "      <td>22</td>\n",
       "      <td>Discharged/transferred to another rehab fac in...</td>\n",
       "    </tr>\n",
       "    <tr>\n",
       "      <th>23</th>\n",
       "      <td>23</td>\n",
       "      <td>Discharged/transferred to a long term care hos...</td>\n",
       "    </tr>\n",
       "    <tr>\n",
       "      <th>24</th>\n",
       "      <td>24</td>\n",
       "      <td>Discharged/transferred to a nursing facility c...</td>\n",
       "    </tr>\n",
       "    <tr>\n",
       "      <th>25</th>\n",
       "      <td>25</td>\n",
       "      <td>Not Mapped</td>\n",
       "    </tr>\n",
       "    <tr>\n",
       "      <th>26</th>\n",
       "      <td>26</td>\n",
       "      <td>Unknown/Invalid</td>\n",
       "    </tr>\n",
       "    <tr>\n",
       "      <th>27</th>\n",
       "      <td>30</td>\n",
       "      <td>Discharged/transferred to another Type of Heal...</td>\n",
       "    </tr>\n",
       "    <tr>\n",
       "      <th>28</th>\n",
       "      <td>27</td>\n",
       "      <td>Discharged/transferred to a federal health car...</td>\n",
       "    </tr>\n",
       "    <tr>\n",
       "      <th>29</th>\n",
       "      <td>28</td>\n",
       "      <td>Discharged/transferred/referred to a psychiatr...</td>\n",
       "    </tr>\n",
       "    <tr>\n",
       "      <th>30</th>\n",
       "      <td>29</td>\n",
       "      <td>Discharged/transferred to a Critical Access Ho...</td>\n",
       "    </tr>\n",
       "  </tbody>\n",
       "</table>\n",
       "</div>"
      ],
      "text/plain": [
       "0  discharge_disposition_id                                        description\n",
       "1                         1                                 Discharged to home\n",
       "2                         2  Discharged/transferred to another short term h...\n",
       "3                         3                      Discharged/transferred to SNF\n",
       "4                         4                      Discharged/transferred to ICF\n",
       "5                         5  Discharged/transferred to another type of inpa...\n",
       "6                         6  Discharged/transferred to home with home healt...\n",
       "7                         7                                           Left AMA\n",
       "8                         8  Discharged/transferred to home under care of H...\n",
       "9                         9          Admitted as an inpatient to this hospital\n",
       "10                       10  Neonate discharged to another hospital for neo...\n",
       "11                       11                                            Expired\n",
       "12                       12  Still patient or expected to return for outpat...\n",
       "13                       13                                     Hospice / home\n",
       "14                       14                         Hospice / medical facility\n",
       "15                       15  Discharged/transferred within this institution...\n",
       "16                       16  Discharged/transferred/referred another instit...\n",
       "17                       17  Discharged/transferred/referred to this instit...\n",
       "18                       18                                                NaN\n",
       "19                       19           Expired at home. Medicaid only, hospice.\n",
       "20                       20  Expired in a medical facility. Medicaid only, ...\n",
       "21                       21    Expired, place unknown. Medicaid only, hospice.\n",
       "22                       22  Discharged/transferred to another rehab fac in...\n",
       "23                       23  Discharged/transferred to a long term care hos...\n",
       "24                       24  Discharged/transferred to a nursing facility c...\n",
       "25                       25                                         Not Mapped\n",
       "26                       26                                    Unknown/Invalid\n",
       "27                       30  Discharged/transferred to another Type of Heal...\n",
       "28                       27  Discharged/transferred to a federal health car...\n",
       "29                       28  Discharged/transferred/referred to a psychiatr...\n",
       "30                       29  Discharged/transferred to a Critical Access Ho..."
      ]
     },
     "execution_count": 24,
     "metadata": {},
     "output_type": "execute_result"
    }
   ],
   "source": [
    "mapping2 = mapping2.reset_index().drop('index', axis=1)\n",
    "mapping2.columns = mapping2.iloc[0]\n",
    "mapping2.drop(mapping2.index[0])"
   ]
  },
  {
   "cell_type": "code",
   "execution_count": 25,
   "metadata": {
    "scrolled": true
   },
   "outputs": [
    {
     "data": {
      "text/html": [
       "<div>\n",
       "<style scoped>\n",
       "    .dataframe tbody tr th:only-of-type {\n",
       "        vertical-align: middle;\n",
       "    }\n",
       "\n",
       "    .dataframe tbody tr th {\n",
       "        vertical-align: top;\n",
       "    }\n",
       "\n",
       "    .dataframe thead th {\n",
       "        text-align: right;\n",
       "    }\n",
       "</style>\n",
       "<table border=\"1\" class=\"dataframe\">\n",
       "  <thead>\n",
       "    <tr style=\"text-align: right;\">\n",
       "      <th>41</th>\n",
       "      <th>admission_source_id</th>\n",
       "      <th>description</th>\n",
       "    </tr>\n",
       "  </thead>\n",
       "  <tbody>\n",
       "    <tr>\n",
       "      <th>42</th>\n",
       "      <td>1</td>\n",
       "      <td>Physician Referral</td>\n",
       "    </tr>\n",
       "    <tr>\n",
       "      <th>43</th>\n",
       "      <td>2</td>\n",
       "      <td>Clinic Referral</td>\n",
       "    </tr>\n",
       "    <tr>\n",
       "      <th>44</th>\n",
       "      <td>3</td>\n",
       "      <td>HMO Referral</td>\n",
       "    </tr>\n",
       "    <tr>\n",
       "      <th>45</th>\n",
       "      <td>4</td>\n",
       "      <td>Transfer from a hospital</td>\n",
       "    </tr>\n",
       "    <tr>\n",
       "      <th>46</th>\n",
       "      <td>5</td>\n",
       "      <td>Transfer from a Skilled Nursing Facility (SNF)</td>\n",
       "    </tr>\n",
       "    <tr>\n",
       "      <th>47</th>\n",
       "      <td>6</td>\n",
       "      <td>Transfer from another health care facility</td>\n",
       "    </tr>\n",
       "    <tr>\n",
       "      <th>48</th>\n",
       "      <td>7</td>\n",
       "      <td>Emergency Room</td>\n",
       "    </tr>\n",
       "    <tr>\n",
       "      <th>49</th>\n",
       "      <td>8</td>\n",
       "      <td>Court/Law Enforcement</td>\n",
       "    </tr>\n",
       "    <tr>\n",
       "      <th>50</th>\n",
       "      <td>9</td>\n",
       "      <td>Not Available</td>\n",
       "    </tr>\n",
       "    <tr>\n",
       "      <th>51</th>\n",
       "      <td>10</td>\n",
       "      <td>Transfer from critial access hospital</td>\n",
       "    </tr>\n",
       "    <tr>\n",
       "      <th>52</th>\n",
       "      <td>11</td>\n",
       "      <td>Normal Delivery</td>\n",
       "    </tr>\n",
       "    <tr>\n",
       "      <th>53</th>\n",
       "      <td>12</td>\n",
       "      <td>Premature Delivery</td>\n",
       "    </tr>\n",
       "    <tr>\n",
       "      <th>54</th>\n",
       "      <td>13</td>\n",
       "      <td>Sick Baby</td>\n",
       "    </tr>\n",
       "    <tr>\n",
       "      <th>55</th>\n",
       "      <td>14</td>\n",
       "      <td>Extramural Birth</td>\n",
       "    </tr>\n",
       "    <tr>\n",
       "      <th>56</th>\n",
       "      <td>15</td>\n",
       "      <td>Not Available</td>\n",
       "    </tr>\n",
       "    <tr>\n",
       "      <th>57</th>\n",
       "      <td>17</td>\n",
       "      <td>NaN</td>\n",
       "    </tr>\n",
       "    <tr>\n",
       "      <th>58</th>\n",
       "      <td>18</td>\n",
       "      <td>Transfer From Another Home Health Agency</td>\n",
       "    </tr>\n",
       "    <tr>\n",
       "      <th>59</th>\n",
       "      <td>19</td>\n",
       "      <td>Readmission to Same Home Health Agency</td>\n",
       "    </tr>\n",
       "    <tr>\n",
       "      <th>60</th>\n",
       "      <td>20</td>\n",
       "      <td>Not Mapped</td>\n",
       "    </tr>\n",
       "    <tr>\n",
       "      <th>61</th>\n",
       "      <td>21</td>\n",
       "      <td>Unknown/Invalid</td>\n",
       "    </tr>\n",
       "    <tr>\n",
       "      <th>62</th>\n",
       "      <td>22</td>\n",
       "      <td>Transfer from hospital inpt/same fac reslt in...</td>\n",
       "    </tr>\n",
       "    <tr>\n",
       "      <th>63</th>\n",
       "      <td>23</td>\n",
       "      <td>Born inside this hospital</td>\n",
       "    </tr>\n",
       "    <tr>\n",
       "      <th>64</th>\n",
       "      <td>24</td>\n",
       "      <td>Born outside this hospital</td>\n",
       "    </tr>\n",
       "    <tr>\n",
       "      <th>65</th>\n",
       "      <td>25</td>\n",
       "      <td>Transfer from Ambulatory Surgery Center</td>\n",
       "    </tr>\n",
       "    <tr>\n",
       "      <th>66</th>\n",
       "      <td>26</td>\n",
       "      <td>Transfer from Hospice</td>\n",
       "    </tr>\n",
       "  </tbody>\n",
       "</table>\n",
       "</div>"
      ],
      "text/plain": [
       "41 admission_source_id                                        description\n",
       "42                   1                                 Physician Referral\n",
       "43                   2                                    Clinic Referral\n",
       "44                   3                                       HMO Referral\n",
       "45                   4                           Transfer from a hospital\n",
       "46                   5     Transfer from a Skilled Nursing Facility (SNF)\n",
       "47                   6         Transfer from another health care facility\n",
       "48                   7                                     Emergency Room\n",
       "49                   8                              Court/Law Enforcement\n",
       "50                   9                                      Not Available\n",
       "51                  10              Transfer from critial access hospital\n",
       "52                  11                                    Normal Delivery\n",
       "53                  12                                 Premature Delivery\n",
       "54                  13                                          Sick Baby\n",
       "55                  14                                   Extramural Birth\n",
       "56                  15                                      Not Available\n",
       "57                  17                                                NaN\n",
       "58                  18           Transfer From Another Home Health Agency\n",
       "59                  19             Readmission to Same Home Health Agency\n",
       "60                  20                                         Not Mapped\n",
       "61                  21                                    Unknown/Invalid\n",
       "62                  22   Transfer from hospital inpt/same fac reslt in...\n",
       "63                  23                          Born inside this hospital\n",
       "64                  24                         Born outside this hospital\n",
       "65                  25            Transfer from Ambulatory Surgery Center\n",
       "66                  26                              Transfer from Hospice"
      ]
     },
     "execution_count": 25,
     "metadata": {},
     "output_type": "execute_result"
    }
   ],
   "source": [
    "mapping3.reset_index().drop('index', axis=1)\n",
    "mapping3.columns = mapping3.iloc[0]\n",
    "mapping3.drop(mapping3.index[0])"
   ]
  },
  {
   "cell_type": "code",
   "execution_count": 26,
   "metadata": {
    "scrolled": false
   },
   "outputs": [],
   "source": [
    "#Make ID Mappings into fewer categories\n",
    "#Drop ids for babies, expired, and hospice care patients\n",
    "\n",
    "to_drop = [4]\n",
    "df = df[~df['admission_type_id'].isin(to_drop)]\n",
    "\n",
    "emergency = [1, 2, 7]\n",
    "elective = [3]\n",
    "unknown_admin = [5, 6, 8]\n",
    "df['admission_type_id'] = df['admission_type_id'].replace(emergency, 1)\n",
    "df['admission_type_id'] = df['admission_type_id'].replace(elective, 2)\n",
    "df['admission_type_id'] = df['admission_type_id'].replace(unknown_admin, 3)\n",
    "\n",
    "\n",
    "to_drop = [10, 11, 13, 14, 19, 20, 21]\n",
    "df = df[~df['discharge_disposition_id'].isin(to_drop)]\n",
    "\n",
    "home_discharge = [1, 6, 8]\n",
    "transfer_discharge = [2, 3, 4, 5, 9, 22, 23]\n",
    "unknown_discharge = [18, 25, 26]\n",
    "outpatient_discharge = [12, 15, 16, 17]\n",
    "other_discharge = [7, 24, 27, 28, 29, 30]\n",
    "df['discharge_disposition_id'] = df['discharge_disposition_id'].replace(home_discharge,1)\n",
    "df['discharge_disposition_id'] = df['discharge_disposition_id'].replace(transfer_discharge,2)\n",
    "df['discharge_disposition_id'] = df['discharge_disposition_id'].replace(outpatient_discharge,3)\n",
    "df['discharge_disposition_id'] = df['discharge_disposition_id'].replace(unknown_discharge,4)\n",
    "df['discharge_disposition_id'] = df['discharge_disposition_id'].replace(other_discharge,5)\n",
    "\n",
    "to_drop = [11, 12, 13, 14, 19, 23, 24, 26]\n",
    "df = df[~df['admission_source_id'].isin(to_drop)]\n",
    "referral = [1, 2, 3]\n",
    "transfer = [4, 5, 6, 10, 18, 22, 25]\n",
    "unknown_source = [9, 15, 16, 17, 20, 21]\n",
    "emergency = [7]\n",
    "court = [8]\n",
    "df['admission_source_id'] = df['admission_source_id'].replace(referral,1)\n",
    "df['admission_source_id'] = df['admission_source_id'].replace(transfer,2)\n",
    "df['admission_source_id'] = df['admission_source_id'].replace(emergency,3)\n",
    "df['admission_source_id'] = df['admission_source_id'].replace(court,4)\n",
    "df['admission_source_id'] = df['admission_source_id'].replace(unknown_source,5)"
   ]
  },
  {
   "cell_type": "code",
   "execution_count": 27,
   "metadata": {
    "scrolled": true
   },
   "outputs": [
    {
     "name": "stdout",
     "output_type": "stream",
     "text": [
      "(97088, 44)\n"
     ]
    },
    {
     "data": {
      "text/html": [
       "<div>\n",
       "<style scoped>\n",
       "    .dataframe tbody tr th:only-of-type {\n",
       "        vertical-align: middle;\n",
       "    }\n",
       "\n",
       "    .dataframe tbody tr th {\n",
       "        vertical-align: top;\n",
       "    }\n",
       "\n",
       "    .dataframe thead th {\n",
       "        text-align: right;\n",
       "    }\n",
       "</style>\n",
       "<table border=\"1\" class=\"dataframe\">\n",
       "  <thead>\n",
       "    <tr style=\"text-align: right;\">\n",
       "      <th></th>\n",
       "      <th>race</th>\n",
       "      <th>gender</th>\n",
       "      <th>admission_type_id</th>\n",
       "      <th>discharge_disposition_id</th>\n",
       "      <th>admission_source_id</th>\n",
       "      <th>time_in_hospital</th>\n",
       "      <th>num_lab_procedures</th>\n",
       "      <th>num_procedures</th>\n",
       "      <th>num_medications</th>\n",
       "      <th>number_outpatient</th>\n",
       "      <th>...</th>\n",
       "      <th>glyburide-metformin</th>\n",
       "      <th>glipizide-metformin</th>\n",
       "      <th>glimepiride-pioglitazone</th>\n",
       "      <th>metformin-pioglitazone</th>\n",
       "      <th>change</th>\n",
       "      <th>diabetesMed</th>\n",
       "      <th>readmitted</th>\n",
       "      <th>Age</th>\n",
       "      <th>hospital_visits</th>\n",
       "      <th>service_usage</th>\n",
       "    </tr>\n",
       "  </thead>\n",
       "  <tbody>\n",
       "    <tr>\n",
       "      <th>0</th>\n",
       "      <td>Caucasian</td>\n",
       "      <td>0</td>\n",
       "      <td>3</td>\n",
       "      <td>4</td>\n",
       "      <td>1</td>\n",
       "      <td>1</td>\n",
       "      <td>41</td>\n",
       "      <td>0</td>\n",
       "      <td>1</td>\n",
       "      <td>0</td>\n",
       "      <td>...</td>\n",
       "      <td>0</td>\n",
       "      <td>0</td>\n",
       "      <td>0</td>\n",
       "      <td>0</td>\n",
       "      <td>0</td>\n",
       "      <td>0</td>\n",
       "      <td>0</td>\n",
       "      <td>5</td>\n",
       "      <td>0</td>\n",
       "      <td>42</td>\n",
       "    </tr>\n",
       "    <tr>\n",
       "      <th>1</th>\n",
       "      <td>Caucasian</td>\n",
       "      <td>0</td>\n",
       "      <td>1</td>\n",
       "      <td>1</td>\n",
       "      <td>3</td>\n",
       "      <td>3</td>\n",
       "      <td>59</td>\n",
       "      <td>0</td>\n",
       "      <td>18</td>\n",
       "      <td>0</td>\n",
       "      <td>...</td>\n",
       "      <td>0</td>\n",
       "      <td>0</td>\n",
       "      <td>0</td>\n",
       "      <td>0</td>\n",
       "      <td>1</td>\n",
       "      <td>1</td>\n",
       "      <td>1</td>\n",
       "      <td>15</td>\n",
       "      <td>0</td>\n",
       "      <td>77</td>\n",
       "    </tr>\n",
       "    <tr>\n",
       "      <th>2</th>\n",
       "      <td>AfricanAmerican</td>\n",
       "      <td>0</td>\n",
       "      <td>1</td>\n",
       "      <td>1</td>\n",
       "      <td>3</td>\n",
       "      <td>2</td>\n",
       "      <td>11</td>\n",
       "      <td>5</td>\n",
       "      <td>13</td>\n",
       "      <td>2</td>\n",
       "      <td>...</td>\n",
       "      <td>0</td>\n",
       "      <td>0</td>\n",
       "      <td>0</td>\n",
       "      <td>0</td>\n",
       "      <td>0</td>\n",
       "      <td>1</td>\n",
       "      <td>0</td>\n",
       "      <td>25</td>\n",
       "      <td>3</td>\n",
       "      <td>29</td>\n",
       "    </tr>\n",
       "    <tr>\n",
       "      <th>3</th>\n",
       "      <td>Caucasian</td>\n",
       "      <td>1</td>\n",
       "      <td>1</td>\n",
       "      <td>1</td>\n",
       "      <td>3</td>\n",
       "      <td>2</td>\n",
       "      <td>44</td>\n",
       "      <td>1</td>\n",
       "      <td>16</td>\n",
       "      <td>0</td>\n",
       "      <td>...</td>\n",
       "      <td>0</td>\n",
       "      <td>0</td>\n",
       "      <td>0</td>\n",
       "      <td>0</td>\n",
       "      <td>1</td>\n",
       "      <td>1</td>\n",
       "      <td>0</td>\n",
       "      <td>35</td>\n",
       "      <td>0</td>\n",
       "      <td>61</td>\n",
       "    </tr>\n",
       "    <tr>\n",
       "      <th>4</th>\n",
       "      <td>Caucasian</td>\n",
       "      <td>1</td>\n",
       "      <td>1</td>\n",
       "      <td>1</td>\n",
       "      <td>3</td>\n",
       "      <td>1</td>\n",
       "      <td>51</td>\n",
       "      <td>0</td>\n",
       "      <td>8</td>\n",
       "      <td>0</td>\n",
       "      <td>...</td>\n",
       "      <td>0</td>\n",
       "      <td>0</td>\n",
       "      <td>0</td>\n",
       "      <td>0</td>\n",
       "      <td>1</td>\n",
       "      <td>1</td>\n",
       "      <td>0</td>\n",
       "      <td>45</td>\n",
       "      <td>0</td>\n",
       "      <td>59</td>\n",
       "    </tr>\n",
       "    <tr>\n",
       "      <th>5</th>\n",
       "      <td>Caucasian</td>\n",
       "      <td>1</td>\n",
       "      <td>1</td>\n",
       "      <td>1</td>\n",
       "      <td>1</td>\n",
       "      <td>3</td>\n",
       "      <td>31</td>\n",
       "      <td>6</td>\n",
       "      <td>16</td>\n",
       "      <td>0</td>\n",
       "      <td>...</td>\n",
       "      <td>0</td>\n",
       "      <td>0</td>\n",
       "      <td>0</td>\n",
       "      <td>0</td>\n",
       "      <td>0</td>\n",
       "      <td>1</td>\n",
       "      <td>1</td>\n",
       "      <td>55</td>\n",
       "      <td>0</td>\n",
       "      <td>53</td>\n",
       "    </tr>\n",
       "    <tr>\n",
       "      <th>6</th>\n",
       "      <td>Caucasian</td>\n",
       "      <td>1</td>\n",
       "      <td>2</td>\n",
       "      <td>1</td>\n",
       "      <td>1</td>\n",
       "      <td>4</td>\n",
       "      <td>70</td>\n",
       "      <td>1</td>\n",
       "      <td>21</td>\n",
       "      <td>0</td>\n",
       "      <td>...</td>\n",
       "      <td>0</td>\n",
       "      <td>0</td>\n",
       "      <td>0</td>\n",
       "      <td>0</td>\n",
       "      <td>1</td>\n",
       "      <td>1</td>\n",
       "      <td>0</td>\n",
       "      <td>65</td>\n",
       "      <td>0</td>\n",
       "      <td>92</td>\n",
       "    </tr>\n",
       "    <tr>\n",
       "      <th>7</th>\n",
       "      <td>Caucasian</td>\n",
       "      <td>1</td>\n",
       "      <td>1</td>\n",
       "      <td>1</td>\n",
       "      <td>3</td>\n",
       "      <td>5</td>\n",
       "      <td>73</td>\n",
       "      <td>0</td>\n",
       "      <td>12</td>\n",
       "      <td>0</td>\n",
       "      <td>...</td>\n",
       "      <td>0</td>\n",
       "      <td>0</td>\n",
       "      <td>0</td>\n",
       "      <td>0</td>\n",
       "      <td>0</td>\n",
       "      <td>1</td>\n",
       "      <td>1</td>\n",
       "      <td>75</td>\n",
       "      <td>0</td>\n",
       "      <td>85</td>\n",
       "    </tr>\n",
       "    <tr>\n",
       "      <th>8</th>\n",
       "      <td>Caucasian</td>\n",
       "      <td>0</td>\n",
       "      <td>1</td>\n",
       "      <td>1</td>\n",
       "      <td>2</td>\n",
       "      <td>13</td>\n",
       "      <td>68</td>\n",
       "      <td>2</td>\n",
       "      <td>28</td>\n",
       "      <td>0</td>\n",
       "      <td>...</td>\n",
       "      <td>0</td>\n",
       "      <td>0</td>\n",
       "      <td>0</td>\n",
       "      <td>0</td>\n",
       "      <td>1</td>\n",
       "      <td>1</td>\n",
       "      <td>0</td>\n",
       "      <td>85</td>\n",
       "      <td>0</td>\n",
       "      <td>98</td>\n",
       "    </tr>\n",
       "    <tr>\n",
       "      <th>9</th>\n",
       "      <td>Caucasian</td>\n",
       "      <td>0</td>\n",
       "      <td>2</td>\n",
       "      <td>2</td>\n",
       "      <td>2</td>\n",
       "      <td>12</td>\n",
       "      <td>33</td>\n",
       "      <td>3</td>\n",
       "      <td>18</td>\n",
       "      <td>0</td>\n",
       "      <td>...</td>\n",
       "      <td>0</td>\n",
       "      <td>0</td>\n",
       "      <td>0</td>\n",
       "      <td>0</td>\n",
       "      <td>1</td>\n",
       "      <td>1</td>\n",
       "      <td>0</td>\n",
       "      <td>95</td>\n",
       "      <td>0</td>\n",
       "      <td>54</td>\n",
       "    </tr>\n",
       "  </tbody>\n",
       "</table>\n",
       "<p>10 rows × 44 columns</p>\n",
       "</div>"
      ],
      "text/plain": [
       "              race  gender  admission_type_id  discharge_disposition_id  \\\n",
       "0        Caucasian       0                  3                         4   \n",
       "1        Caucasian       0                  1                         1   \n",
       "2  AfricanAmerican       0                  1                         1   \n",
       "3        Caucasian       1                  1                         1   \n",
       "4        Caucasian       1                  1                         1   \n",
       "5        Caucasian       1                  1                         1   \n",
       "6        Caucasian       1                  2                         1   \n",
       "7        Caucasian       1                  1                         1   \n",
       "8        Caucasian       0                  1                         1   \n",
       "9        Caucasian       0                  2                         2   \n",
       "\n",
       "   admission_source_id  time_in_hospital  num_lab_procedures  num_procedures  \\\n",
       "0                    1                 1                  41               0   \n",
       "1                    3                 3                  59               0   \n",
       "2                    3                 2                  11               5   \n",
       "3                    3                 2                  44               1   \n",
       "4                    3                 1                  51               0   \n",
       "5                    1                 3                  31               6   \n",
       "6                    1                 4                  70               1   \n",
       "7                    3                 5                  73               0   \n",
       "8                    2                13                  68               2   \n",
       "9                    2                12                  33               3   \n",
       "\n",
       "   num_medications  number_outpatient  ...  glyburide-metformin  \\\n",
       "0                1                  0  ...                    0   \n",
       "1               18                  0  ...                    0   \n",
       "2               13                  2  ...                    0   \n",
       "3               16                  0  ...                    0   \n",
       "4                8                  0  ...                    0   \n",
       "5               16                  0  ...                    0   \n",
       "6               21                  0  ...                    0   \n",
       "7               12                  0  ...                    0   \n",
       "8               28                  0  ...                    0   \n",
       "9               18                  0  ...                    0   \n",
       "\n",
       "   glipizide-metformin glimepiride-pioglitazone metformin-pioglitazone change  \\\n",
       "0                    0                        0                      0      0   \n",
       "1                    0                        0                      0      1   \n",
       "2                    0                        0                      0      0   \n",
       "3                    0                        0                      0      1   \n",
       "4                    0                        0                      0      1   \n",
       "5                    0                        0                      0      0   \n",
       "6                    0                        0                      0      1   \n",
       "7                    0                        0                      0      0   \n",
       "8                    0                        0                      0      1   \n",
       "9                    0                        0                      0      1   \n",
       "\n",
       "   diabetesMed  readmitted  Age  hospital_visits  service_usage  \n",
       "0            0           0    5                0             42  \n",
       "1            1           1   15                0             77  \n",
       "2            1           0   25                3             29  \n",
       "3            1           0   35                0             61  \n",
       "4            1           0   45                0             59  \n",
       "5            1           1   55                0             53  \n",
       "6            1           0   65                0             92  \n",
       "7            1           1   75                0             85  \n",
       "8            1           0   85                0             98  \n",
       "9            1           0   95                0             54  \n",
       "\n",
       "[10 rows x 44 columns]"
      ]
     },
     "execution_count": 27,
     "metadata": {},
     "output_type": "execute_result"
    }
   ],
   "source": [
    "print(df.shape)\n",
    "df.head(10)"
   ]
  },
  {
   "cell_type": "code",
   "execution_count": 28,
   "metadata": {},
   "outputs": [],
   "source": [
    "att_dtype = {\n",
    "             'race':'Categorical', 'gender': 'Categorical', \n",
    "             'Age':'Ordinal', 'admission_type_id': 'Categorical', \n",
    "             'discharge_disposition_id':'Categorical', \n",
    "             'admission_source_id': 'Categorical', \n",
    "             'time_in_hospital': 'Numerical', \n",
    "             'num_lab_procedures': 'Numerical',\n",
    "             'num_procedures':'Numerical', 'num_medications':'Numerical', \n",
    "             'number_outpatient':'Numerical', 'number_emergency':'Numerical', \n",
    "             'number_inpatient': 'Numerical', 'diag_1': 'Categorical', \n",
    "             'diag_2': 'Categorical', 'diag_3': 'Categorical', \n",
    "             'number_diagnoses': 'Numerical', 'max_glu_serum': 'Ordinal', \n",
    "             'A1Cresult': 'Ordinal', 'metformin': 'Categorical', \n",
    "             'repaglinide': 'Categorical', 'nateglinide': 'Categorical', \n",
    "             'chlorpropamide': 'Categorical', 'glimepiride': 'Categorical', \n",
    "             'acetohexamide': 'Categorical', 'glipizide': 'Categorical', \n",
    "             'glyburide': 'Categorical', 'tolbutamide': 'Categorical',\n",
    "             'pioglitazone': 'Categorical', 'rosiglitazone': 'Categorical', \n",
    "             'acarbose': 'Categorical', 'miglitol': 'Categorical', \n",
    "             'troglitazone': 'Categorical', 'tolazamide': 'Categorical', \n",
    "             'insulin': 'Categorical','glyburide-metformin': 'Categorical', \n",
    "             'glipizide-metformin': 'Categorical', 'glimepiride-pioglitazone': 'Categorical', \n",
    "             'metformin-pioglitazone': 'Categorical', \n",
    "             'change': 'Categorical', 'diabetesMed': 'Categorical', \n",
    "             'hospital_visits': 'Numerical', 'service_usage': 'Numerical'\n",
    "            }"
   ]
  },
  {
   "cell_type": "code",
   "execution_count": 29,
   "metadata": {},
   "outputs": [],
   "source": [
    "cont_vars = []\n",
    "for x in att_dtype:\n",
    "    if att_dtype[x] == 'Numerical':\n",
    "        cont_vars.append(x)"
   ]
  },
  {
   "cell_type": "code",
   "execution_count": 30,
   "metadata": {},
   "outputs": [],
   "source": [
    "nominalcats = []\n",
    "for x in att_dtype:\n",
    "    if att_dtype[x] == 'Categorical':\n",
    "        nominalcats.append(x)"
   ]
  },
  {
   "cell_type": "code",
   "execution_count": 31,
   "metadata": {},
   "outputs": [],
   "source": [
    "df[nominalcats] = df[nominalcats].apply(lambda x: x.astype(\"category\"))\n",
    "df[cont_vars] = df[cont_vars].apply(lambda x: x.astype(\"int\"))"
   ]
  },
  {
   "cell_type": "code",
   "execution_count": 32,
   "metadata": {},
   "outputs": [],
   "source": [
    "df = pd.get_dummies(df, columns=nominalcats, drop_first = True)"
   ]
  },
  {
   "cell_type": "code",
   "execution_count": 33,
   "metadata": {},
   "outputs": [],
   "source": [
    "corr_matrix = df.corr()\n",
    "correlation = np.triu(corr_matrix.values, k=1)\n",
    "corr_matrix = pd.DataFrame(correlation, columns=corr_matrix.columns)\n",
    "to_drop = [column for column in corr_matrix.columns if any(corr_matrix[column] > 0.65)]"
   ]
  },
  {
   "cell_type": "code",
   "execution_count": 34,
   "metadata": {},
   "outputs": [
    {
     "data": {
      "image/png": "[encoded data removed]",
      "text/plain": [
       "<Figure size 720x720 with 2 Axes>"
      ]
     },
     "metadata": {
      "needs_background": "light"
     },
     "output_type": "display_data"
    }
   ],
   "source": [
    "plt.figure(figsize=(10,10))\n",
    "sns.heatmap(df[cont_vars].corr(), linewidths=.1, cmap=\"Blues\", annot=True)\n",
    "\n",
    "\n",
    "plt.title('Correlation Heatmap for continuous variables')\n",
    "plt.xticks(rotation=45)\n",
    "plt.savefig('Figures/Continuous_variable_heatmap.png', bbox_inches='tight')"
   ]
  },
  {
   "cell_type": "code",
   "execution_count": 35,
   "metadata": {},
   "outputs": [
    {
     "data": {
      "text/html": [
       "<div>\n",
       "<style scoped>\n",
       "    .dataframe tbody tr th:only-of-type {\n",
       "        vertical-align: middle;\n",
       "    }\n",
       "\n",
       "    .dataframe tbody tr th {\n",
       "        vertical-align: top;\n",
       "    }\n",
       "\n",
       "    .dataframe thead th {\n",
       "        text-align: right;\n",
       "    }\n",
       "</style>\n",
       "<table border=\"1\" class=\"dataframe\">\n",
       "  <thead>\n",
       "    <tr style=\"text-align: right;\">\n",
       "      <th></th>\n",
       "      <th>time_in_hospital</th>\n",
       "      <th>num_lab_procedures</th>\n",
       "      <th>num_procedures</th>\n",
       "      <th>num_medications</th>\n",
       "      <th>number_outpatient</th>\n",
       "      <th>number_emergency</th>\n",
       "      <th>number_inpatient</th>\n",
       "      <th>number_diagnoses</th>\n",
       "      <th>hospital_visits</th>\n",
       "      <th>service_usage</th>\n",
       "    </tr>\n",
       "  </thead>\n",
       "  <tbody>\n",
       "    <tr>\n",
       "      <th>count</th>\n",
       "      <td>97088.000000</td>\n",
       "      <td>97088.000000</td>\n",
       "      <td>97088.000000</td>\n",
       "      <td>97088.000000</td>\n",
       "      <td>97088.000000</td>\n",
       "      <td>97088.000000</td>\n",
       "      <td>97088.000000</td>\n",
       "      <td>97088.000000</td>\n",
       "      <td>97088.000000</td>\n",
       "      <td>97088.000000</td>\n",
       "    </tr>\n",
       "    <tr>\n",
       "      <th>mean</th>\n",
       "      <td>4.381407</td>\n",
       "      <td>42.882117</td>\n",
       "      <td>1.335170</td>\n",
       "      <td>15.984653</td>\n",
       "      <td>0.373321</td>\n",
       "      <td>0.202023</td>\n",
       "      <td>0.638544</td>\n",
       "      <td>7.418919</td>\n",
       "      <td>1.213888</td>\n",
       "      <td>60.201941</td>\n",
       "    </tr>\n",
       "    <tr>\n",
       "      <th>std</th>\n",
       "      <td>2.970072</td>\n",
       "      <td>19.629145</td>\n",
       "      <td>1.700766</td>\n",
       "      <td>8.086746</td>\n",
       "      <td>1.274786</td>\n",
       "      <td>0.947484</td>\n",
       "      <td>1.269095</td>\n",
       "      <td>1.933616</td>\n",
       "      <td>2.311463</td>\n",
       "      <td>23.482067</td>\n",
       "    </tr>\n",
       "    <tr>\n",
       "      <th>min</th>\n",
       "      <td>1.000000</td>\n",
       "      <td>1.000000</td>\n",
       "      <td>0.000000</td>\n",
       "      <td>1.000000</td>\n",
       "      <td>0.000000</td>\n",
       "      <td>0.000000</td>\n",
       "      <td>0.000000</td>\n",
       "      <td>1.000000</td>\n",
       "      <td>0.000000</td>\n",
       "      <td>2.000000</td>\n",
       "    </tr>\n",
       "    <tr>\n",
       "      <th>25%</th>\n",
       "      <td>2.000000</td>\n",
       "      <td>31.000000</td>\n",
       "      <td>0.000000</td>\n",
       "      <td>10.000000</td>\n",
       "      <td>0.000000</td>\n",
       "      <td>0.000000</td>\n",
       "      <td>0.000000</td>\n",
       "      <td>6.000000</td>\n",
       "      <td>0.000000</td>\n",
       "      <td>46.000000</td>\n",
       "    </tr>\n",
       "    <tr>\n",
       "      <th>50%</th>\n",
       "      <td>4.000000</td>\n",
       "      <td>44.000000</td>\n",
       "      <td>1.000000</td>\n",
       "      <td>15.000000</td>\n",
       "      <td>0.000000</td>\n",
       "      <td>0.000000</td>\n",
       "      <td>0.000000</td>\n",
       "      <td>8.000000</td>\n",
       "      <td>0.000000</td>\n",
       "      <td>61.000000</td>\n",
       "    </tr>\n",
       "    <tr>\n",
       "      <th>75%</th>\n",
       "      <td>6.000000</td>\n",
       "      <td>57.000000</td>\n",
       "      <td>2.000000</td>\n",
       "      <td>20.000000</td>\n",
       "      <td>0.000000</td>\n",
       "      <td>0.000000</td>\n",
       "      <td>1.000000</td>\n",
       "      <td>9.000000</td>\n",
       "      <td>2.000000</td>\n",
       "      <td>75.000000</td>\n",
       "    </tr>\n",
       "    <tr>\n",
       "      <th>max</th>\n",
       "      <td>14.000000</td>\n",
       "      <td>132.000000</td>\n",
       "      <td>6.000000</td>\n",
       "      <td>81.000000</td>\n",
       "      <td>42.000000</td>\n",
       "      <td>76.000000</td>\n",
       "      <td>21.000000</td>\n",
       "      <td>16.000000</td>\n",
       "      <td>80.000000</td>\n",
       "      <td>179.000000</td>\n",
       "    </tr>\n",
       "  </tbody>\n",
       "</table>\n",
       "</div>"
      ],
      "text/plain": [
       "       time_in_hospital  num_lab_procedures  num_procedures  num_medications  \\\n",
       "count      97088.000000        97088.000000    97088.000000     97088.000000   \n",
       "mean           4.381407           42.882117        1.335170        15.984653   \n",
       "std            2.970072           19.629145        1.700766         8.086746   \n",
       "min            1.000000            1.000000        0.000000         1.000000   \n",
       "25%            2.000000           31.000000        0.000000        10.000000   \n",
       "50%            4.000000           44.000000        1.000000        15.000000   \n",
       "75%            6.000000           57.000000        2.000000        20.000000   \n",
       "max           14.000000          132.000000        6.000000        81.000000   \n",
       "\n",
       "       number_outpatient  number_emergency  number_inpatient  \\\n",
       "count       97088.000000      97088.000000      97088.000000   \n",
       "mean            0.373321          0.202023          0.638544   \n",
       "std             1.274786          0.947484          1.269095   \n",
       "min             0.000000          0.000000          0.000000   \n",
       "25%             0.000000          0.000000          0.000000   \n",
       "50%             0.000000          0.000000          0.000000   \n",
       "75%             0.000000          0.000000          1.000000   \n",
       "max            42.000000         76.000000         21.000000   \n",
       "\n",
       "       number_diagnoses  hospital_visits  service_usage  \n",
       "count      97088.000000     97088.000000   97088.000000  \n",
       "mean           7.418919         1.213888      60.201941  \n",
       "std            1.933616         2.311463      23.482067  \n",
       "min            1.000000         0.000000       2.000000  \n",
       "25%            6.000000         0.000000      46.000000  \n",
       "50%            8.000000         0.000000      61.000000  \n",
       "75%            9.000000         2.000000      75.000000  \n",
       "max           16.000000        80.000000     179.000000  "
      ]
     },
     "execution_count": 35,
     "metadata": {},
     "output_type": "execute_result"
    }
   ],
   "source": [
    "df[cont_vars].describe()"
   ]
  },
  {
   "cell_type": "code",
   "execution_count": 36,
   "metadata": {
    "scrolled": false
   },
   "outputs": [
    {
     "data": {
      "image/png": "[encoded data removed]",
      "text/plain": [
       "<Figure size 1080x576 with 1 Axes>"
      ]
     },
     "metadata": {
      "needs_background": "light"
     },
     "output_type": "display_data"
    }
   ],
   "source": [
    "#We do not want to normalize here because we lose information\n",
    "#We see that there is a significant difference between these populations\n",
    "plt.figure(figsize=(15, 8))\n",
    "sns.boxplot(x='variable', hue='readmitted', y='value', data= pd.melt(df, id_vars=['readmitted'], value_vars=cont_vars), palette='pastel')\n",
    "\n",
    "plt.title('Boxplot of Continuous Variables')\n",
    "plt.xticks(rotation=45)\n",
    "plt.savefig('Figures/Continuous_variable_boxplot.png')"
   ]
  },
  {
   "cell_type": "code",
   "execution_count": 37,
   "metadata": {},
   "outputs": [
    {
     "name": "stdout",
     "output_type": "stream",
     "text": [
      "Variable: time_in_hospital\n"
     ]
    },
    {
     "data": {
      "text/html": [
       "<div>\n",
       "<style scoped>\n",
       "    .dataframe tbody tr th:only-of-type {\n",
       "        vertical-align: middle;\n",
       "    }\n",
       "\n",
       "    .dataframe tbody tr th {\n",
       "        vertical-align: top;\n",
       "    }\n",
       "\n",
       "    .dataframe thead th {\n",
       "        text-align: right;\n",
       "    }\n",
       "</style>\n",
       "<table border=\"1\" class=\"dataframe\">\n",
       "  <thead>\n",
       "    <tr style=\"text-align: right;\">\n",
       "      <th></th>\n",
       "      <th>mean</th>\n",
       "      <th>std</th>\n",
       "    </tr>\n",
       "    <tr>\n",
       "      <th>readmitted</th>\n",
       "      <th></th>\n",
       "      <th></th>\n",
       "    </tr>\n",
       "  </thead>\n",
       "  <tbody>\n",
       "    <tr>\n",
       "      <th>0</th>\n",
       "      <td>4.218371</td>\n",
       "      <td>2.930393</td>\n",
       "    </tr>\n",
       "    <tr>\n",
       "      <th>1</th>\n",
       "      <td>4.561856</td>\n",
       "      <td>3.003110</td>\n",
       "    </tr>\n",
       "  </tbody>\n",
       "</table>\n",
       "</div>"
      ],
      "text/plain": [
       "                mean       std\n",
       "readmitted                    \n",
       "0           4.218371  2.930393\n",
       "1           4.561856  3.003110"
      ]
     },
     "metadata": {},
     "output_type": "display_data"
    },
    {
     "name": "stdout",
     "output_type": "stream",
     "text": [
      "Variable: num_lab_procedures\n"
     ]
    },
    {
     "data": {
      "text/html": [
       "<div>\n",
       "<style scoped>\n",
       "    .dataframe tbody tr th:only-of-type {\n",
       "        vertical-align: middle;\n",
       "    }\n",
       "\n",
       "    .dataframe tbody tr th {\n",
       "        vertical-align: top;\n",
       "    }\n",
       "\n",
       "    .dataframe thead th {\n",
       "        text-align: right;\n",
       "    }\n",
       "</style>\n",
       "<table border=\"1\" class=\"dataframe\">\n",
       "  <thead>\n",
       "    <tr style=\"text-align: right;\">\n",
       "      <th></th>\n",
       "      <th>mean</th>\n",
       "      <th>std</th>\n",
       "    </tr>\n",
       "    <tr>\n",
       "      <th>readmitted</th>\n",
       "      <th></th>\n",
       "      <th></th>\n",
       "    </tr>\n",
       "  </thead>\n",
       "  <tbody>\n",
       "    <tr>\n",
       "      <th>0</th>\n",
       "      <td>41.970983</td>\n",
       "      <td>19.691643</td>\n",
       "    </tr>\n",
       "    <tr>\n",
       "      <th>1</th>\n",
       "      <td>43.890567</td>\n",
       "      <td>19.510406</td>\n",
       "    </tr>\n",
       "  </tbody>\n",
       "</table>\n",
       "</div>"
      ],
      "text/plain": [
       "                 mean        std\n",
       "readmitted                      \n",
       "0           41.970983  19.691643\n",
       "1           43.890567  19.510406"
      ]
     },
     "metadata": {},
     "output_type": "display_data"
    },
    {
     "name": "stdout",
     "output_type": "stream",
     "text": [
      "Variable: num_procedures\n"
     ]
    },
    {
     "data": {
      "text/html": [
       "<div>\n",
       "<style scoped>\n",
       "    .dataframe tbody tr th:only-of-type {\n",
       "        vertical-align: middle;\n",
       "    }\n",
       "\n",
       "    .dataframe tbody tr th {\n",
       "        vertical-align: top;\n",
       "    }\n",
       "\n",
       "    .dataframe thead th {\n",
       "        text-align: right;\n",
       "    }\n",
       "</style>\n",
       "<table border=\"1\" class=\"dataframe\">\n",
       "  <thead>\n",
       "    <tr style=\"text-align: right;\">\n",
       "      <th></th>\n",
       "      <th>mean</th>\n",
       "      <th>std</th>\n",
       "    </tr>\n",
       "    <tr>\n",
       "      <th>readmitted</th>\n",
       "      <th></th>\n",
       "      <th></th>\n",
       "    </tr>\n",
       "  </thead>\n",
       "  <tbody>\n",
       "    <tr>\n",
       "      <th>0</th>\n",
       "      <td>1.402059</td>\n",
       "      <td>1.732051</td>\n",
       "    </tr>\n",
       "    <tr>\n",
       "      <th>1</th>\n",
       "      <td>1.261138</td>\n",
       "      <td>1.662338</td>\n",
       "    </tr>\n",
       "  </tbody>\n",
       "</table>\n",
       "</div>"
      ],
      "text/plain": [
       "                mean       std\n",
       "readmitted                    \n",
       "0           1.402059  1.732051\n",
       "1           1.261138  1.662338"
      ]
     },
     "metadata": {},
     "output_type": "display_data"
    },
    {
     "name": "stdout",
     "output_type": "stream",
     "text": [
      "Variable: num_medications\n"
     ]
    },
    {
     "data": {
      "text/html": [
       "<div>\n",
       "<style scoped>\n",
       "    .dataframe tbody tr th:only-of-type {\n",
       "        vertical-align: middle;\n",
       "    }\n",
       "\n",
       "    .dataframe tbody tr th {\n",
       "        vertical-align: top;\n",
       "    }\n",
       "\n",
       "    .dataframe thead th {\n",
       "        text-align: right;\n",
       "    }\n",
       "</style>\n",
       "<table border=\"1\" class=\"dataframe\">\n",
       "  <thead>\n",
       "    <tr style=\"text-align: right;\">\n",
       "      <th></th>\n",
       "      <th>mean</th>\n",
       "      <th>std</th>\n",
       "    </tr>\n",
       "    <tr>\n",
       "      <th>readmitted</th>\n",
       "      <th></th>\n",
       "      <th></th>\n",
       "    </tr>\n",
       "  </thead>\n",
       "  <tbody>\n",
       "    <tr>\n",
       "      <th>0</th>\n",
       "      <td>15.579982</td>\n",
       "      <td>8.367649</td>\n",
       "    </tr>\n",
       "    <tr>\n",
       "      <th>1</th>\n",
       "      <td>16.432546</td>\n",
       "      <td>7.739460</td>\n",
       "    </tr>\n",
       "  </tbody>\n",
       "</table>\n",
       "</div>"
      ],
      "text/plain": [
       "                 mean       std\n",
       "readmitted                     \n",
       "0           15.579982  8.367649\n",
       "1           16.432546  7.739460"
      ]
     },
     "metadata": {},
     "output_type": "display_data"
    },
    {
     "name": "stdout",
     "output_type": "stream",
     "text": [
      "Variable: number_outpatient\n"
     ]
    },
    {
     "data": {
      "text/html": [
       "<div>\n",
       "<style scoped>\n",
       "    .dataframe tbody tr th:only-of-type {\n",
       "        vertical-align: middle;\n",
       "    }\n",
       "\n",
       "    .dataframe tbody tr th {\n",
       "        vertical-align: top;\n",
       "    }\n",
       "\n",
       "    .dataframe thead th {\n",
       "        text-align: right;\n",
       "    }\n",
       "</style>\n",
       "<table border=\"1\" class=\"dataframe\">\n",
       "  <thead>\n",
       "    <tr style=\"text-align: right;\">\n",
       "      <th></th>\n",
       "      <th>mean</th>\n",
       "      <th>std</th>\n",
       "    </tr>\n",
       "    <tr>\n",
       "      <th>readmitted</th>\n",
       "      <th></th>\n",
       "      <th></th>\n",
       "    </tr>\n",
       "  </thead>\n",
       "  <tbody>\n",
       "    <tr>\n",
       "      <th>0</th>\n",
       "      <td>0.273012</td>\n",
       "      <td>1.023710</td>\n",
       "    </tr>\n",
       "    <tr>\n",
       "      <th>1</th>\n",
       "      <td>0.484343</td>\n",
       "      <td>1.496792</td>\n",
       "    </tr>\n",
       "  </tbody>\n",
       "</table>\n",
       "</div>"
      ],
      "text/plain": [
       "                mean       std\n",
       "readmitted                    \n",
       "0           0.273012  1.023710\n",
       "1           0.484343  1.496792"
      ]
     },
     "metadata": {},
     "output_type": "display_data"
    },
    {
     "name": "stdout",
     "output_type": "stream",
     "text": [
      "Variable: number_emergency\n"
     ]
    },
    {
     "data": {
      "text/html": [
       "<div>\n",
       "<style scoped>\n",
       "    .dataframe tbody tr th:only-of-type {\n",
       "        vertical-align: middle;\n",
       "    }\n",
       "\n",
       "    .dataframe tbody tr th {\n",
       "        vertical-align: top;\n",
       "    }\n",
       "\n",
       "    .dataframe thead th {\n",
       "        text-align: right;\n",
       "    }\n",
       "</style>\n",
       "<table border=\"1\" class=\"dataframe\">\n",
       "  <thead>\n",
       "    <tr style=\"text-align: right;\">\n",
       "      <th></th>\n",
       "      <th>mean</th>\n",
       "      <th>std</th>\n",
       "    </tr>\n",
       "    <tr>\n",
       "      <th>readmitted</th>\n",
       "      <th></th>\n",
       "      <th></th>\n",
       "    </tr>\n",
       "  </thead>\n",
       "  <tbody>\n",
       "    <tr>\n",
       "      <th>0</th>\n",
       "      <td>0.108989</td>\n",
       "      <td>0.528817</td>\n",
       "    </tr>\n",
       "    <tr>\n",
       "      <th>1</th>\n",
       "      <td>0.304993</td>\n",
       "      <td>1.249663</td>\n",
       "    </tr>\n",
       "  </tbody>\n",
       "</table>\n",
       "</div>"
      ],
      "text/plain": [
       "                mean       std\n",
       "readmitted                    \n",
       "0           0.108989  0.528817\n",
       "1           0.304993  1.249663"
      ]
     },
     "metadata": {},
     "output_type": "display_data"
    },
    {
     "name": "stdout",
     "output_type": "stream",
     "text": [
      "Variable: number_inpatient\n"
     ]
    },
    {
     "data": {
      "text/html": [
       "<div>\n",
       "<style scoped>\n",
       "    .dataframe tbody tr th:only-of-type {\n",
       "        vertical-align: middle;\n",
       "    }\n",
       "\n",
       "    .dataframe tbody tr th {\n",
       "        vertical-align: top;\n",
       "    }\n",
       "\n",
       "    .dataframe thead th {\n",
       "        text-align: right;\n",
       "    }\n",
       "</style>\n",
       "<table border=\"1\" class=\"dataframe\">\n",
       "  <thead>\n",
       "    <tr style=\"text-align: right;\">\n",
       "      <th></th>\n",
       "      <th>mean</th>\n",
       "      <th>std</th>\n",
       "    </tr>\n",
       "    <tr>\n",
       "      <th>readmitted</th>\n",
       "      <th></th>\n",
       "      <th></th>\n",
       "    </tr>\n",
       "  </thead>\n",
       "  <tbody>\n",
       "    <tr>\n",
       "      <th>0</th>\n",
       "      <td>0.367415</td>\n",
       "      <td>0.837712</td>\n",
       "    </tr>\n",
       "    <tr>\n",
       "      <th>1</th>\n",
       "      <td>0.938632</td>\n",
       "      <td>1.563691</td>\n",
       "    </tr>\n",
       "  </tbody>\n",
       "</table>\n",
       "</div>"
      ],
      "text/plain": [
       "                mean       std\n",
       "readmitted                    \n",
       "0           0.367415  0.837712\n",
       "1           0.938632  1.563691"
      ]
     },
     "metadata": {},
     "output_type": "display_data"
    },
    {
     "name": "stdout",
     "output_type": "stream",
     "text": [
      "Variable: number_diagnoses\n"
     ]
    },
    {
     "data": {
      "text/html": [
       "<div>\n",
       "<style scoped>\n",
       "    .dataframe tbody tr th:only-of-type {\n",
       "        vertical-align: middle;\n",
       "    }\n",
       "\n",
       "    .dataframe tbody tr th {\n",
       "        vertical-align: top;\n",
       "    }\n",
       "\n",
       "    .dataframe thead th {\n",
       "        text-align: right;\n",
       "    }\n",
       "</style>\n",
       "<table border=\"1\" class=\"dataframe\">\n",
       "  <thead>\n",
       "    <tr style=\"text-align: right;\">\n",
       "      <th></th>\n",
       "      <th>mean</th>\n",
       "      <th>std</th>\n",
       "    </tr>\n",
       "    <tr>\n",
       "      <th>readmitted</th>\n",
       "      <th></th>\n",
       "      <th></th>\n",
       "    </tr>\n",
       "  </thead>\n",
       "  <tbody>\n",
       "    <tr>\n",
       "      <th>0</th>\n",
       "      <td>7.196255</td>\n",
       "      <td>2.022109</td>\n",
       "    </tr>\n",
       "    <tr>\n",
       "      <th>1</th>\n",
       "      <td>7.665365</td>\n",
       "      <td>1.798860</td>\n",
       "    </tr>\n",
       "  </tbody>\n",
       "</table>\n",
       "</div>"
      ],
      "text/plain": [
       "                mean       std\n",
       "readmitted                    \n",
       "0           7.196255  2.022109\n",
       "1           7.665365  1.798860"
      ]
     },
     "metadata": {},
     "output_type": "display_data"
    },
    {
     "name": "stdout",
     "output_type": "stream",
     "text": [
      "Variable: hospital_visits\n"
     ]
    },
    {
     "data": {
      "text/html": [
       "<div>\n",
       "<style scoped>\n",
       "    .dataframe tbody tr th:only-of-type {\n",
       "        vertical-align: middle;\n",
       "    }\n",
       "\n",
       "    .dataframe tbody tr th {\n",
       "        vertical-align: top;\n",
       "    }\n",
       "\n",
       "    .dataframe thead th {\n",
       "        text-align: right;\n",
       "    }\n",
       "</style>\n",
       "<table border=\"1\" class=\"dataframe\">\n",
       "  <thead>\n",
       "    <tr style=\"text-align: right;\">\n",
       "      <th></th>\n",
       "      <th>mean</th>\n",
       "      <th>std</th>\n",
       "    </tr>\n",
       "    <tr>\n",
       "      <th>readmitted</th>\n",
       "      <th></th>\n",
       "      <th></th>\n",
       "    </tr>\n",
       "  </thead>\n",
       "  <tbody>\n",
       "    <tr>\n",
       "      <th>0</th>\n",
       "      <td>0.749417</td>\n",
       "      <td>1.562016</td>\n",
       "    </tr>\n",
       "    <tr>\n",
       "      <th>1</th>\n",
       "      <td>1.727969</td>\n",
       "      <td>2.837771</td>\n",
       "    </tr>\n",
       "  </tbody>\n",
       "</table>\n",
       "</div>"
      ],
      "text/plain": [
       "                mean       std\n",
       "readmitted                    \n",
       "0           0.749417  1.562016\n",
       "1           1.727969  2.837771"
      ]
     },
     "metadata": {},
     "output_type": "display_data"
    },
    {
     "name": "stdout",
     "output_type": "stream",
     "text": [
      "Variable: service_usage\n"
     ]
    },
    {
     "data": {
      "text/html": [
       "<div>\n",
       "<style scoped>\n",
       "    .dataframe tbody tr th:only-of-type {\n",
       "        vertical-align: middle;\n",
       "    }\n",
       "\n",
       "    .dataframe tbody tr th {\n",
       "        vertical-align: top;\n",
       "    }\n",
       "\n",
       "    .dataframe thead th {\n",
       "        text-align: right;\n",
       "    }\n",
       "</style>\n",
       "<table border=\"1\" class=\"dataframe\">\n",
       "  <thead>\n",
       "    <tr style=\"text-align: right;\">\n",
       "      <th></th>\n",
       "      <th>mean</th>\n",
       "      <th>std</th>\n",
       "    </tr>\n",
       "    <tr>\n",
       "      <th>readmitted</th>\n",
       "      <th></th>\n",
       "      <th></th>\n",
       "    </tr>\n",
       "  </thead>\n",
       "  <tbody>\n",
       "    <tr>\n",
       "      <th>0</th>\n",
       "      <td>58.953024</td>\n",
       "      <td>23.596921</td>\n",
       "    </tr>\n",
       "    <tr>\n",
       "      <th>1</th>\n",
       "      <td>61.584250</td>\n",
       "      <td>23.276543</td>\n",
       "    </tr>\n",
       "  </tbody>\n",
       "</table>\n",
       "</div>"
      ],
      "text/plain": [
       "                 mean        std\n",
       "readmitted                      \n",
       "0           58.953024  23.596921\n",
       "1           61.584250  23.276543"
      ]
     },
     "metadata": {},
     "output_type": "display_data"
    }
   ],
   "source": [
    "for x in cont_vars:\n",
    "    print('Variable: {}'.format(x))\n",
    "    display(df.groupby(['readmitted'])[x].describe().loc[:,['mean','std']])"
   ]
  },
  {
   "cell_type": "code",
   "execution_count": 38,
   "metadata": {},
   "outputs": [
    {
     "name": "stdout",
     "output_type": "stream",
     "text": [
      "These variables may invoke collinearity: ['hospital_visits', 'service_usage', 'admission_source_id_5', 'diag_2_K', 'diag_3_K']\n"
     ]
    }
   ],
   "source": [
    "print('These variables may invoke collinearity:', to_drop)"
   ]
  },
  {
   "cell_type": "code",
   "execution_count": 39,
   "metadata": {},
   "outputs": [],
   "source": [
    "df.drop(to_drop, axis=1, inplace=True)"
   ]
  },
  {
   "cell_type": "code",
   "execution_count": 40,
   "metadata": {
    "scrolled": true
   },
   "outputs": [
    {
     "data": {
      "text/html": [
       "<div>\n",
       "<style scoped>\n",
       "    .dataframe tbody tr th:only-of-type {\n",
       "        vertical-align: middle;\n",
       "    }\n",
       "\n",
       "    .dataframe tbody tr th {\n",
       "        vertical-align: top;\n",
       "    }\n",
       "\n",
       "    .dataframe thead th {\n",
       "        text-align: right;\n",
       "    }\n",
       "</style>\n",
       "<table border=\"1\" class=\"dataframe\">\n",
       "  <thead>\n",
       "    <tr style=\"text-align: right;\">\n",
       "      <th></th>\n",
       "      <th>time_in_hospital</th>\n",
       "      <th>num_lab_procedures</th>\n",
       "      <th>num_procedures</th>\n",
       "      <th>num_medications</th>\n",
       "      <th>number_outpatient</th>\n",
       "      <th>number_emergency</th>\n",
       "      <th>number_inpatient</th>\n",
       "      <th>number_diagnoses</th>\n",
       "      <th>max_glu_serum</th>\n",
       "      <th>A1Cresult</th>\n",
       "      <th>...</th>\n",
       "      <th>miglitol_1</th>\n",
       "      <th>troglitazone_1</th>\n",
       "      <th>tolazamide_1</th>\n",
       "      <th>insulin_1</th>\n",
       "      <th>glyburide-metformin_1</th>\n",
       "      <th>glipizide-metformin_1</th>\n",
       "      <th>glimepiride-pioglitazone_1</th>\n",
       "      <th>metformin-pioglitazone_1</th>\n",
       "      <th>change_1</th>\n",
       "      <th>diabetesMed_1</th>\n",
       "    </tr>\n",
       "  </thead>\n",
       "  <tbody>\n",
       "    <tr>\n",
       "      <th>0</th>\n",
       "      <td>1</td>\n",
       "      <td>41</td>\n",
       "      <td>0</td>\n",
       "      <td>1</td>\n",
       "      <td>0</td>\n",
       "      <td>0</td>\n",
       "      <td>0</td>\n",
       "      <td>1</td>\n",
       "      <td>-99</td>\n",
       "      <td>-99</td>\n",
       "      <td>...</td>\n",
       "      <td>0</td>\n",
       "      <td>0</td>\n",
       "      <td>0</td>\n",
       "      <td>0</td>\n",
       "      <td>0</td>\n",
       "      <td>0</td>\n",
       "      <td>0</td>\n",
       "      <td>0</td>\n",
       "      <td>0</td>\n",
       "      <td>0</td>\n",
       "    </tr>\n",
       "    <tr>\n",
       "      <th>1</th>\n",
       "      <td>3</td>\n",
       "      <td>59</td>\n",
       "      <td>0</td>\n",
       "      <td>18</td>\n",
       "      <td>0</td>\n",
       "      <td>0</td>\n",
       "      <td>0</td>\n",
       "      <td>9</td>\n",
       "      <td>-99</td>\n",
       "      <td>-99</td>\n",
       "      <td>...</td>\n",
       "      <td>0</td>\n",
       "      <td>0</td>\n",
       "      <td>0</td>\n",
       "      <td>1</td>\n",
       "      <td>0</td>\n",
       "      <td>0</td>\n",
       "      <td>0</td>\n",
       "      <td>0</td>\n",
       "      <td>1</td>\n",
       "      <td>1</td>\n",
       "    </tr>\n",
       "    <tr>\n",
       "      <th>2</th>\n",
       "      <td>2</td>\n",
       "      <td>11</td>\n",
       "      <td>5</td>\n",
       "      <td>13</td>\n",
       "      <td>2</td>\n",
       "      <td>0</td>\n",
       "      <td>1</td>\n",
       "      <td>6</td>\n",
       "      <td>-99</td>\n",
       "      <td>-99</td>\n",
       "      <td>...</td>\n",
       "      <td>0</td>\n",
       "      <td>0</td>\n",
       "      <td>0</td>\n",
       "      <td>0</td>\n",
       "      <td>0</td>\n",
       "      <td>0</td>\n",
       "      <td>0</td>\n",
       "      <td>0</td>\n",
       "      <td>0</td>\n",
       "      <td>1</td>\n",
       "    </tr>\n",
       "    <tr>\n",
       "      <th>3</th>\n",
       "      <td>2</td>\n",
       "      <td>44</td>\n",
       "      <td>1</td>\n",
       "      <td>16</td>\n",
       "      <td>0</td>\n",
       "      <td>0</td>\n",
       "      <td>0</td>\n",
       "      <td>7</td>\n",
       "      <td>-99</td>\n",
       "      <td>-99</td>\n",
       "      <td>...</td>\n",
       "      <td>0</td>\n",
       "      <td>0</td>\n",
       "      <td>0</td>\n",
       "      <td>1</td>\n",
       "      <td>0</td>\n",
       "      <td>0</td>\n",
       "      <td>0</td>\n",
       "      <td>0</td>\n",
       "      <td>1</td>\n",
       "      <td>1</td>\n",
       "    </tr>\n",
       "    <tr>\n",
       "      <th>4</th>\n",
       "      <td>1</td>\n",
       "      <td>51</td>\n",
       "      <td>0</td>\n",
       "      <td>8</td>\n",
       "      <td>0</td>\n",
       "      <td>0</td>\n",
       "      <td>0</td>\n",
       "      <td>5</td>\n",
       "      <td>-99</td>\n",
       "      <td>-99</td>\n",
       "      <td>...</td>\n",
       "      <td>0</td>\n",
       "      <td>0</td>\n",
       "      <td>0</td>\n",
       "      <td>1</td>\n",
       "      <td>0</td>\n",
       "      <td>0</td>\n",
       "      <td>0</td>\n",
       "      <td>0</td>\n",
       "      <td>1</td>\n",
       "      <td>1</td>\n",
       "    </tr>\n",
       "    <tr>\n",
       "      <th>...</th>\n",
       "      <td>...</td>\n",
       "      <td>...</td>\n",
       "      <td>...</td>\n",
       "      <td>...</td>\n",
       "      <td>...</td>\n",
       "      <td>...</td>\n",
       "      <td>...</td>\n",
       "      <td>...</td>\n",
       "      <td>...</td>\n",
       "      <td>...</td>\n",
       "      <td>...</td>\n",
       "      <td>...</td>\n",
       "      <td>...</td>\n",
       "      <td>...</td>\n",
       "      <td>...</td>\n",
       "      <td>...</td>\n",
       "      <td>...</td>\n",
       "      <td>...</td>\n",
       "      <td>...</td>\n",
       "      <td>...</td>\n",
       "      <td>...</td>\n",
       "    </tr>\n",
       "    <tr>\n",
       "      <th>101761</th>\n",
       "      <td>3</td>\n",
       "      <td>51</td>\n",
       "      <td>0</td>\n",
       "      <td>16</td>\n",
       "      <td>0</td>\n",
       "      <td>0</td>\n",
       "      <td>0</td>\n",
       "      <td>9</td>\n",
       "      <td>-99</td>\n",
       "      <td>2</td>\n",
       "      <td>...</td>\n",
       "      <td>0</td>\n",
       "      <td>0</td>\n",
       "      <td>0</td>\n",
       "      <td>1</td>\n",
       "      <td>0</td>\n",
       "      <td>0</td>\n",
       "      <td>0</td>\n",
       "      <td>0</td>\n",
       "      <td>1</td>\n",
       "      <td>1</td>\n",
       "    </tr>\n",
       "    <tr>\n",
       "      <th>101762</th>\n",
       "      <td>5</td>\n",
       "      <td>33</td>\n",
       "      <td>3</td>\n",
       "      <td>18</td>\n",
       "      <td>0</td>\n",
       "      <td>0</td>\n",
       "      <td>1</td>\n",
       "      <td>9</td>\n",
       "      <td>-99</td>\n",
       "      <td>-99</td>\n",
       "      <td>...</td>\n",
       "      <td>0</td>\n",
       "      <td>0</td>\n",
       "      <td>0</td>\n",
       "      <td>1</td>\n",
       "      <td>0</td>\n",
       "      <td>0</td>\n",
       "      <td>0</td>\n",
       "      <td>0</td>\n",
       "      <td>0</td>\n",
       "      <td>1</td>\n",
       "    </tr>\n",
       "    <tr>\n",
       "      <th>101763</th>\n",
       "      <td>1</td>\n",
       "      <td>53</td>\n",
       "      <td>0</td>\n",
       "      <td>9</td>\n",
       "      <td>1</td>\n",
       "      <td>0</td>\n",
       "      <td>0</td>\n",
       "      <td>13</td>\n",
       "      <td>-99</td>\n",
       "      <td>-99</td>\n",
       "      <td>...</td>\n",
       "      <td>0</td>\n",
       "      <td>0</td>\n",
       "      <td>0</td>\n",
       "      <td>1</td>\n",
       "      <td>0</td>\n",
       "      <td>0</td>\n",
       "      <td>0</td>\n",
       "      <td>0</td>\n",
       "      <td>1</td>\n",
       "      <td>1</td>\n",
       "    </tr>\n",
       "    <tr>\n",
       "      <th>101764</th>\n",
       "      <td>10</td>\n",
       "      <td>45</td>\n",
       "      <td>2</td>\n",
       "      <td>21</td>\n",
       "      <td>0</td>\n",
       "      <td>0</td>\n",
       "      <td>1</td>\n",
       "      <td>9</td>\n",
       "      <td>-99</td>\n",
       "      <td>-99</td>\n",
       "      <td>...</td>\n",
       "      <td>0</td>\n",
       "      <td>0</td>\n",
       "      <td>0</td>\n",
       "      <td>1</td>\n",
       "      <td>0</td>\n",
       "      <td>0</td>\n",
       "      <td>0</td>\n",
       "      <td>0</td>\n",
       "      <td>1</td>\n",
       "      <td>1</td>\n",
       "    </tr>\n",
       "    <tr>\n",
       "      <th>101765</th>\n",
       "      <td>6</td>\n",
       "      <td>13</td>\n",
       "      <td>3</td>\n",
       "      <td>3</td>\n",
       "      <td>0</td>\n",
       "      <td>0</td>\n",
       "      <td>0</td>\n",
       "      <td>9</td>\n",
       "      <td>-99</td>\n",
       "      <td>-99</td>\n",
       "      <td>...</td>\n",
       "      <td>0</td>\n",
       "      <td>0</td>\n",
       "      <td>0</td>\n",
       "      <td>0</td>\n",
       "      <td>0</td>\n",
       "      <td>0</td>\n",
       "      <td>0</td>\n",
       "      <td>0</td>\n",
       "      <td>0</td>\n",
       "      <td>0</td>\n",
       "    </tr>\n",
       "  </tbody>\n",
       "</table>\n",
       "<p>97088 rows × 94 columns</p>\n",
       "</div>"
      ],
      "text/plain": [
       "        time_in_hospital  num_lab_procedures  num_procedures  num_medications  \\\n",
       "0                      1                  41               0                1   \n",
       "1                      3                  59               0               18   \n",
       "2                      2                  11               5               13   \n",
       "3                      2                  44               1               16   \n",
       "4                      1                  51               0                8   \n",
       "...                  ...                 ...             ...              ...   \n",
       "101761                 3                  51               0               16   \n",
       "101762                 5                  33               3               18   \n",
       "101763                 1                  53               0                9   \n",
       "101764                10                  45               2               21   \n",
       "101765                 6                  13               3                3   \n",
       "\n",
       "        number_outpatient  number_emergency  number_inpatient  \\\n",
       "0                       0                 0                 0   \n",
       "1                       0                 0                 0   \n",
       "2                       2                 0                 1   \n",
       "3                       0                 0                 0   \n",
       "4                       0                 0                 0   \n",
       "...                   ...               ...               ...   \n",
       "101761                  0                 0                 0   \n",
       "101762                  0                 0                 1   \n",
       "101763                  1                 0                 0   \n",
       "101764                  0                 0                 1   \n",
       "101765                  0                 0                 0   \n",
       "\n",
       "        number_diagnoses  max_glu_serum  A1Cresult  ...  miglitol_1  \\\n",
       "0                      1            -99        -99  ...           0   \n",
       "1                      9            -99        -99  ...           0   \n",
       "2                      6            -99        -99  ...           0   \n",
       "3                      7            -99        -99  ...           0   \n",
       "4                      5            -99        -99  ...           0   \n",
       "...                  ...            ...        ...  ...         ...   \n",
       "101761                 9            -99          2  ...           0   \n",
       "101762                 9            -99        -99  ...           0   \n",
       "101763                13            -99        -99  ...           0   \n",
       "101764                 9            -99        -99  ...           0   \n",
       "101765                 9            -99        -99  ...           0   \n",
       "\n",
       "        troglitazone_1  tolazamide_1  insulin_1  glyburide-metformin_1  \\\n",
       "0                    0             0          0                      0   \n",
       "1                    0             0          1                      0   \n",
       "2                    0             0          0                      0   \n",
       "3                    0             0          1                      0   \n",
       "4                    0             0          1                      0   \n",
       "...                ...           ...        ...                    ...   \n",
       "101761               0             0          1                      0   \n",
       "101762               0             0          1                      0   \n",
       "101763               0             0          1                      0   \n",
       "101764               0             0          1                      0   \n",
       "101765               0             0          0                      0   \n",
       "\n",
       "        glipizide-metformin_1  glimepiride-pioglitazone_1  \\\n",
       "0                           0                           0   \n",
       "1                           0                           0   \n",
       "2                           0                           0   \n",
       "3                           0                           0   \n",
       "4                           0                           0   \n",
       "...                       ...                         ...   \n",
       "101761                      0                           0   \n",
       "101762                      0                           0   \n",
       "101763                      0                           0   \n",
       "101764                      0                           0   \n",
       "101765                      0                           0   \n",
       "\n",
       "        metformin-pioglitazone_1  change_1  diabetesMed_1  \n",
       "0                              0         0              0  \n",
       "1                              0         1              1  \n",
       "2                              0         0              1  \n",
       "3                              0         1              1  \n",
       "4                              0         1              1  \n",
       "...                          ...       ...            ...  \n",
       "101761                         0         1              1  \n",
       "101762                         0         0              1  \n",
       "101763                         0         1              1  \n",
       "101764                         0         1              1  \n",
       "101765                         0         0              0  \n",
       "\n",
       "[97088 rows x 94 columns]"
      ]
     },
     "execution_count": 40,
     "metadata": {},
     "output_type": "execute_result"
    }
   ],
   "source": [
    "df.replace([np.inf, -np.inf], np.nan)\n",
    "df.dropna()"
   ]
  },
  {
   "cell_type": "code",
   "execution_count": 41,
   "metadata": {},
   "outputs": [],
   "source": [
    "#Compare each column to target variable (Hypothesis testing)\n",
    "#That means comparing from continuous to categorical (Logistic Regression) and\n",
    "#categorical to categorical (chi-square test - Crammer's V)\n",
    "\n",
    "def interpret_cramers(x): #Cramer's V correlation coefficient\n",
    "    if 0 < x <= 0.1:\n",
    "        return 'little to no association'\n",
    "    elif 0.1 < x <= 0.3:\n",
    "        return 'weak association'\n",
    "    elif 0.3 < x <= 0.5:\n",
    "        return 'moderate association'\n",
    "    elif 0.5 < x:\n",
    "        return 'strong association'\n",
    "    else:\n",
    "        return 'incorrect calculation'\n",
    "    \n",
    "def interpret_pbcc(x): #Pearson's Bivariate Correlation Coefficient\n",
    "    x = abs(x)\n",
    "    if 0 < x <= 0.2:\n",
    "        return 'little to no association'\n",
    "    elif 0.2 < x <= 0.4:\n",
    "        return 'weak association'\n",
    "    elif 0.4 < x <= 0.6:\n",
    "        return 'moderate association'\n",
    "    elif 0.6 < x <= 0.8:\n",
    "        return 'strong association'\n",
    "    elif 0.8 < x:\n",
    "        return 'very strong association'\n",
    "    else:\n",
    "        return 'incorrect calculation'\n",
    "                        \n",
    "\n",
    "def chi_square_and_cramersv(df, col_1, col_2):\n",
    "    \"\"\"Chi-square test for categorical-categorical \"\"\"\n",
    "    table = pd.crosstab(index=df[col_1], columns=df[col_2])\n",
    "    chi2 = chi2_contingency(table)\n",
    "    \"\"\"Calculate Cramérs V statistic for categorial-categorial association.\"\"\"\n",
    "    n = table.sum().sum()\n",
    "    phi2 = chi2[0] / n\n",
    "    cramersv = np.sqrt(phi2 / (min(table.shape)-1))\n",
    "    return chi2[0], chi2[1], chi2[2], chi2[3], cramersv\n",
    "\n",
    "alpha = 0.05\n"
   ]
  },
  {
   "cell_type": "code",
   "execution_count": 42,
   "metadata": {
    "scrolled": true
   },
   "outputs": [
    {
     "name": "stdout",
     "output_type": "stream",
     "text": [
      "T-test with: time_in_hospital\n",
      "T-test with: num_lab_procedures\n",
      "T-test with: num_procedures\n",
      "T-test with: num_medications\n",
      "T-test with: number_outpatient\n",
      "T-test with: number_emergency\n",
      "T-test with: number_inpatient\n",
      "T-test with: number_diagnoses\n",
      "Chi-Squared Test with: max_glu_serum\n",
      "Chi-Squared Test with: A1Cresult\n",
      "Chi-Squared Test with: readmitted\n",
      "Chi-Squared Test with: Age\n",
      "Chi-Squared Test with: race_Asian\n",
      "Chi-Squared Test with: race_Caucasian\n",
      "Chi-Squared Test with: race_Hispanic\n",
      "Chi-Squared Test with: race_Other\n",
      "Chi-Squared Test with: gender_1\n",
      "Chi-Squared Test with: admission_type_id_2\n",
      "Chi-Squared Test with: admission_type_id_3\n",
      "Chi-Squared Test with: discharge_disposition_id_2\n",
      "Chi-Squared Test with: discharge_disposition_id_3\n",
      "Chi-Squared Test with: discharge_disposition_id_4\n",
      "Chi-Squared Test with: discharge_disposition_id_5\n",
      "Chi-Squared Test with: admission_source_id_2\n",
      "Chi-Squared Test with: admission_source_id_3\n",
      "Chi-Squared Test with: admission_source_id_4\n",
      "Chi-Squared Test with: diag_1_A\n",
      "Chi-Squared Test with: diag_1_B\n",
      "Chi-Squared Test with: diag_1_C\n",
      "Chi-Squared Test with: diag_1_D\n",
      "Chi-Squared Test with: diag_1_E\n",
      "Chi-Squared Test with: diag_1_F\n",
      "Chi-Squared Test with: diag_1_G\n",
      "Chi-Squared Test with: diag_1_H\n",
      "Chi-Squared Test with: diag_1_I\n",
      "Chi-Squared Test with: diag_1_J\n",
      "Chi-Squared Test with: diag_1_K\n",
      "Chi-Squared Test with: diag_1_L\n",
      "Chi-Squared Test with: diag_1_M\n",
      "Chi-Squared Test with: diag_1_N\n",
      "Chi-Squared Test with: diag_1_P\n",
      "Chi-Squared Test with: diag_1_Q\n",
      "Chi-Squared Test with: diag_2_A\n",
      "Chi-Squared Test with: diag_2_B\n",
      "Chi-Squared Test with: diag_2_C\n",
      "Chi-Squared Test with: diag_2_D\n",
      "Chi-Squared Test with: diag_2_E\n",
      "Chi-Squared Test with: diag_2_F\n",
      "Chi-Squared Test with: diag_2_G\n",
      "Chi-Squared Test with: diag_2_H\n",
      "Chi-Squared Test with: diag_2_I\n",
      "Chi-Squared Test with: diag_2_J\n",
      "Chi-Squared Test with: diag_2_L\n",
      "Chi-Squared Test with: diag_2_M\n",
      "Chi-Squared Test with: diag_2_N\n",
      "Chi-Squared Test with: diag_2_P\n",
      "Chi-Squared Test with: diag_2_Q\n",
      "Chi-Squared Test with: diag_3_A\n",
      "Chi-Squared Test with: diag_3_B\n",
      "Chi-Squared Test with: diag_3_C\n",
      "Chi-Squared Test with: diag_3_D\n",
      "Chi-Squared Test with: diag_3_E\n",
      "Chi-Squared Test with: diag_3_F\n",
      "Chi-Squared Test with: diag_3_G\n",
      "Chi-Squared Test with: diag_3_H\n",
      "Chi-Squared Test with: diag_3_I\n",
      "Chi-Squared Test with: diag_3_J\n",
      "Chi-Squared Test with: diag_3_L\n",
      "Chi-Squared Test with: diag_3_M\n",
      "Chi-Squared Test with: diag_3_N\n",
      "Chi-Squared Test with: diag_3_P\n",
      "Chi-Squared Test with: diag_3_Q\n",
      "Chi-Squared Test with: metformin_1\n",
      "Chi-Squared Test with: repaglinide_1\n",
      "Chi-Squared Test with: nateglinide_1\n",
      "Chi-Squared Test with: chlorpropamide_1\n",
      "Chi-Squared Test with: glimepiride_1\n",
      "Chi-Squared Test with: acetohexamide_1\n",
      "Chi-Squared Test with: glipizide_1\n",
      "Chi-Squared Test with: glyburide_1\n",
      "Chi-Squared Test with: tolbutamide_1\n",
      "Chi-Squared Test with: pioglitazone_1\n",
      "Chi-Squared Test with: rosiglitazone_1\n",
      "Chi-Squared Test with: acarbose_1\n",
      "Chi-Squared Test with: miglitol_1\n",
      "Chi-Squared Test with: troglitazone_1\n",
      "Chi-Squared Test with: tolazamide_1\n",
      "Chi-Squared Test with: insulin_1\n",
      "Chi-Squared Test with: glyburide-metformin_1\n",
      "Chi-Squared Test with: glipizide-metformin_1\n",
      "Chi-Squared Test with: glimepiride-pioglitazone_1\n",
      "Chi-Squared Test with: metformin-pioglitazone_1\n",
      "Chi-Squared Test with: change_1\n",
      "Chi-Squared Test with: diabetesMed_1\n"
     ]
    }
   ],
   "source": [
    "hypothesis_tests = []\n",
    "for dummy_variable in df.columns:\n",
    "    for variable in att_dtype:\n",
    "        if variable in dummy_variable:\n",
    "            y = variable\n",
    "    if (att_dtype[y] == 'Categorical') | (att_dtype[y] == 'Ordinal'):\n",
    "        #Chi-Squared Stats Test\n",
    "        print('Chi-Squared Test with:', dummy_variable)\n",
    "        stat, p, dof, expected, cramersv = chi_square_and_cramersv(df, 'readmitted', dummy_variable)\n",
    "        \n",
    "        # interpret p-value \n",
    "        if p <= alpha: #Dependent with target variable (reject H0) - A relationship exists - keep\n",
    "            hypothesis_tests.append([dummy_variable, att_dtype[y], round(p, 3), 'Reject H0', \n",
    "                                     #round(cramersv, 3), interpret_cramers(cramersv)\n",
    "                                    ])\n",
    "            \n",
    "        else: #Independent from target variable (fail to reject H0) - A relationship does not exist - remove\n",
    "            hypothesis_tests.append([dummy_variable, att_dtype[y], round(p, 3), 'Fail to reject H0', \n",
    "                                     #round(cramersv, 3), interpret_cramers(cramersv)\n",
    "                                    ])\n",
    "        \n",
    "    elif att_dtype[y] == 'Numerical':\n",
    "        #T-test\n",
    "        print('T-test with:', dummy_variable)\n",
    "        #Parametric tests are valid for our purposes as our sample size is large enough\n",
    "        #And is accurate enough for our needs https://www.bmj.com/content/338/bmj.a3166\n",
    "        \n",
    "        t_stat, p_val = ttest_ind(df[dummy_variable], df['readmitted'])\n",
    "        \n",
    "        #Point-biserial correlation\n",
    "        corr, pbc_p = pointbiserialr(df[dummy_variable], df['readmitted'])\n",
    "        if p_val <= alpha and abs(t_stat) > 0: #Dependent (reject H0)\n",
    "            hypothesis_tests.append([dummy_variable, att_dtype[y], round(p_val, 3), 'Reject H0', \n",
    "                                     #corr, interpret_pbcc(corr)\n",
    "                                    ])\n",
    "        else: #Independent (fail to reject H0)\n",
    "            hypothesis_tests.append([dummy_variable, att_dtype[y], round(p_val, 3), 'Fail to reject H0', \n",
    "                                     #corr, interpret_pbcc(corr)\n",
    "                                    ])\n",
    "\n",
    "    else:\n",
    "        continue"
   ]
  },
  {
   "cell_type": "code",
   "execution_count": 43,
   "metadata": {},
   "outputs": [
    {
     "data": {
      "text/html": [
       "<div>\n",
       "<style scoped>\n",
       "    .dataframe tbody tr th:only-of-type {\n",
       "        vertical-align: middle;\n",
       "    }\n",
       "\n",
       "    .dataframe tbody tr th {\n",
       "        vertical-align: top;\n",
       "    }\n",
       "\n",
       "    .dataframe thead th {\n",
       "        text-align: right;\n",
       "    }\n",
       "</style>\n",
       "<table border=\"1\" class=\"dataframe\">\n",
       "  <thead>\n",
       "    <tr style=\"text-align: right;\">\n",
       "      <th></th>\n",
       "      <th>Variable</th>\n",
       "      <th>Type</th>\n",
       "      <th>p_value</th>\n",
       "      <th>Null Hypothesis</th>\n",
       "    </tr>\n",
       "  </thead>\n",
       "  <tbody>\n",
       "    <tr>\n",
       "      <th>0</th>\n",
       "      <td>time_in_hospital</td>\n",
       "      <td>Numerical</td>\n",
       "      <td>0.00</td>\n",
       "      <td>Reject H0</td>\n",
       "    </tr>\n",
       "    <tr>\n",
       "      <th>1</th>\n",
       "      <td>num_lab_procedures</td>\n",
       "      <td>Numerical</td>\n",
       "      <td>0.00</td>\n",
       "      <td>Reject H0</td>\n",
       "    </tr>\n",
       "    <tr>\n",
       "      <th>2</th>\n",
       "      <td>num_procedures</td>\n",
       "      <td>Numerical</td>\n",
       "      <td>0.00</td>\n",
       "      <td>Reject H0</td>\n",
       "    </tr>\n",
       "    <tr>\n",
       "      <th>3</th>\n",
       "      <td>num_medications</td>\n",
       "      <td>Numerical</td>\n",
       "      <td>0.00</td>\n",
       "      <td>Reject H0</td>\n",
       "    </tr>\n",
       "    <tr>\n",
       "      <th>4</th>\n",
       "      <td>number_outpatient</td>\n",
       "      <td>Numerical</td>\n",
       "      <td>0.00</td>\n",
       "      <td>Reject H0</td>\n",
       "    </tr>\n",
       "    <tr>\n",
       "      <th>...</th>\n",
       "      <td>...</td>\n",
       "      <td>...</td>\n",
       "      <td>...</td>\n",
       "      <td>...</td>\n",
       "    </tr>\n",
       "    <tr>\n",
       "      <th>89</th>\n",
       "      <td>glipizide-metformin_1</td>\n",
       "      <td>Categorical</td>\n",
       "      <td>0.46</td>\n",
       "      <td>Fail to reject H0</td>\n",
       "    </tr>\n",
       "    <tr>\n",
       "      <th>90</th>\n",
       "      <td>glimepiride-pioglitazone_1</td>\n",
       "      <td>Categorical</td>\n",
       "      <td>0.96</td>\n",
       "      <td>Fail to reject H0</td>\n",
       "    </tr>\n",
       "    <tr>\n",
       "      <th>91</th>\n",
       "      <td>metformin-pioglitazone_1</td>\n",
       "      <td>Categorical</td>\n",
       "      <td>0.96</td>\n",
       "      <td>Fail to reject H0</td>\n",
       "    </tr>\n",
       "    <tr>\n",
       "      <th>92</th>\n",
       "      <td>change_1</td>\n",
       "      <td>Categorical</td>\n",
       "      <td>0.00</td>\n",
       "      <td>Reject H0</td>\n",
       "    </tr>\n",
       "    <tr>\n",
       "      <th>93</th>\n",
       "      <td>diabetesMed_1</td>\n",
       "      <td>Categorical</td>\n",
       "      <td>0.00</td>\n",
       "      <td>Reject H0</td>\n",
       "    </tr>\n",
       "  </tbody>\n",
       "</table>\n",
       "<p>94 rows × 4 columns</p>\n",
       "</div>"
      ],
      "text/plain": [
       "                      Variable         Type  p_value    Null Hypothesis\n",
       "0             time_in_hospital    Numerical     0.00          Reject H0\n",
       "1           num_lab_procedures    Numerical     0.00          Reject H0\n",
       "2               num_procedures    Numerical     0.00          Reject H0\n",
       "3              num_medications    Numerical     0.00          Reject H0\n",
       "4            number_outpatient    Numerical     0.00          Reject H0\n",
       "..                         ...          ...      ...                ...\n",
       "89       glipizide-metformin_1  Categorical     0.46  Fail to reject H0\n",
       "90  glimepiride-pioglitazone_1  Categorical     0.96  Fail to reject H0\n",
       "91    metformin-pioglitazone_1  Categorical     0.96  Fail to reject H0\n",
       "92                    change_1  Categorical     0.00          Reject H0\n",
       "93               diabetesMed_1  Categorical     0.00          Reject H0\n",
       "\n",
       "[94 rows x 4 columns]"
      ]
     },
     "execution_count": 43,
     "metadata": {},
     "output_type": "execute_result"
    }
   ],
   "source": [
    "h_tests = pd.DataFrame(hypothesis_tests, columns=['Variable', 'Type', 'p_value', 'Null Hypothesis'])\n",
    "h_tests"
   ]
  },
  {
   "cell_type": "code",
   "execution_count": 44,
   "metadata": {},
   "outputs": [
    {
     "data": {
      "text/html": [
       "<div>\n",
       "<style scoped>\n",
       "    .dataframe tbody tr th:only-of-type {\n",
       "        vertical-align: middle;\n",
       "    }\n",
       "\n",
       "    .dataframe tbody tr th {\n",
       "        vertical-align: top;\n",
       "    }\n",
       "\n",
       "    .dataframe thead th {\n",
       "        text-align: right;\n",
       "    }\n",
       "</style>\n",
       "<table border=\"1\" class=\"dataframe\">\n",
       "  <thead>\n",
       "    <tr style=\"text-align: right;\">\n",
       "      <th></th>\n",
       "      <th>Variable</th>\n",
       "      <th>Type</th>\n",
       "      <th>p_value</th>\n",
       "      <th>Null Hypothesis</th>\n",
       "    </tr>\n",
       "  </thead>\n",
       "  <tbody>\n",
       "    <tr>\n",
       "      <th>30</th>\n",
       "      <td>diag_1_E</td>\n",
       "      <td>Categorical</td>\n",
       "      <td>0.986</td>\n",
       "      <td>Fail to reject H0</td>\n",
       "    </tr>\n",
       "    <tr>\n",
       "      <th>43</th>\n",
       "      <td>diag_2_B</td>\n",
       "      <td>Categorical</td>\n",
       "      <td>0.976</td>\n",
       "      <td>Fail to reject H0</td>\n",
       "    </tr>\n",
       "    <tr>\n",
       "      <th>91</th>\n",
       "      <td>metformin-pioglitazone_1</td>\n",
       "      <td>Categorical</td>\n",
       "      <td>0.960</td>\n",
       "      <td>Fail to reject H0</td>\n",
       "    </tr>\n",
       "    <tr>\n",
       "      <th>90</th>\n",
       "      <td>glimepiride-pioglitazone_1</td>\n",
       "      <td>Categorical</td>\n",
       "      <td>0.960</td>\n",
       "      <td>Fail to reject H0</td>\n",
       "    </tr>\n",
       "    <tr>\n",
       "      <th>57</th>\n",
       "      <td>diag_3_A</td>\n",
       "      <td>Categorical</td>\n",
       "      <td>0.960</td>\n",
       "      <td>Fail to reject H0</td>\n",
       "    </tr>\n",
       "    <tr>\n",
       "      <th>...</th>\n",
       "      <td>...</td>\n",
       "      <td>...</td>\n",
       "      <td>...</td>\n",
       "      <td>...</td>\n",
       "    </tr>\n",
       "    <tr>\n",
       "      <th>29</th>\n",
       "      <td>diag_1_D</td>\n",
       "      <td>Categorical</td>\n",
       "      <td>0.000</td>\n",
       "      <td>Reject H0</td>\n",
       "    </tr>\n",
       "    <tr>\n",
       "      <th>28</th>\n",
       "      <td>diag_1_C</td>\n",
       "      <td>Categorical</td>\n",
       "      <td>0.000</td>\n",
       "      <td>Reject H0</td>\n",
       "    </tr>\n",
       "    <tr>\n",
       "      <th>27</th>\n",
       "      <td>diag_1_B</td>\n",
       "      <td>Categorical</td>\n",
       "      <td>0.000</td>\n",
       "      <td>Reject H0</td>\n",
       "    </tr>\n",
       "    <tr>\n",
       "      <th>24</th>\n",
       "      <td>admission_source_id_3</td>\n",
       "      <td>Categorical</td>\n",
       "      <td>0.000</td>\n",
       "      <td>Reject H0</td>\n",
       "    </tr>\n",
       "    <tr>\n",
       "      <th>93</th>\n",
       "      <td>diabetesMed_1</td>\n",
       "      <td>Categorical</td>\n",
       "      <td>0.000</td>\n",
       "      <td>Reject H0</td>\n",
       "    </tr>\n",
       "  </tbody>\n",
       "</table>\n",
       "<p>93 rows × 4 columns</p>\n",
       "</div>"
      ],
      "text/plain": [
       "                      Variable         Type  p_value    Null Hypothesis\n",
       "30                    diag_1_E  Categorical    0.986  Fail to reject H0\n",
       "43                    diag_2_B  Categorical    0.976  Fail to reject H0\n",
       "91    metformin-pioglitazone_1  Categorical    0.960  Fail to reject H0\n",
       "90  glimepiride-pioglitazone_1  Categorical    0.960  Fail to reject H0\n",
       "57                    diag_3_A  Categorical    0.960  Fail to reject H0\n",
       "..                         ...          ...      ...                ...\n",
       "29                    diag_1_D  Categorical    0.000          Reject H0\n",
       "28                    diag_1_C  Categorical    0.000          Reject H0\n",
       "27                    diag_1_B  Categorical    0.000          Reject H0\n",
       "24       admission_source_id_3  Categorical    0.000          Reject H0\n",
       "93               diabetesMed_1  Categorical    0.000          Reject H0\n",
       "\n",
       "[93 rows x 4 columns]"
      ]
     },
     "execution_count": 44,
     "metadata": {},
     "output_type": "execute_result"
    }
   ],
   "source": [
    "h_tests.loc[h_tests['Variable'] != 'readmitted'].sort_values('p_value', ascending= False)"
   ]
  },
  {
   "cell_type": "code",
   "execution_count": 45,
   "metadata": {
    "scrolled": false
   },
   "outputs": [
    {
     "data": {
      "text/html": [
       "<div>\n",
       "<style scoped>\n",
       "    .dataframe tbody tr th:only-of-type {\n",
       "        vertical-align: middle;\n",
       "    }\n",
       "\n",
       "    .dataframe tbody tr th {\n",
       "        vertical-align: top;\n",
       "    }\n",
       "\n",
       "    .dataframe thead th {\n",
       "        text-align: right;\n",
       "    }\n",
       "</style>\n",
       "<table border=\"1\" class=\"dataframe\">\n",
       "  <thead>\n",
       "    <tr style=\"text-align: right;\">\n",
       "      <th></th>\n",
       "      <th>Variable</th>\n",
       "      <th>Type</th>\n",
       "      <th>p_value</th>\n",
       "      <th>Null Hypothesis</th>\n",
       "    </tr>\n",
       "  </thead>\n",
       "  <tbody>\n",
       "    <tr>\n",
       "      <th>0</th>\n",
       "      <td>time_in_hospital</td>\n",
       "      <td>Numerical</td>\n",
       "      <td>0.000</td>\n",
       "      <td>Reject H0</td>\n",
       "    </tr>\n",
       "    <tr>\n",
       "      <th>1</th>\n",
       "      <td>num_lab_procedures</td>\n",
       "      <td>Numerical</td>\n",
       "      <td>0.000</td>\n",
       "      <td>Reject H0</td>\n",
       "    </tr>\n",
       "    <tr>\n",
       "      <th>2</th>\n",
       "      <td>num_procedures</td>\n",
       "      <td>Numerical</td>\n",
       "      <td>0.000</td>\n",
       "      <td>Reject H0</td>\n",
       "    </tr>\n",
       "    <tr>\n",
       "      <th>3</th>\n",
       "      <td>num_medications</td>\n",
       "      <td>Numerical</td>\n",
       "      <td>0.000</td>\n",
       "      <td>Reject H0</td>\n",
       "    </tr>\n",
       "    <tr>\n",
       "      <th>4</th>\n",
       "      <td>number_outpatient</td>\n",
       "      <td>Numerical</td>\n",
       "      <td>0.000</td>\n",
       "      <td>Reject H0</td>\n",
       "    </tr>\n",
       "    <tr>\n",
       "      <th>...</th>\n",
       "      <td>...</td>\n",
       "      <td>...</td>\n",
       "      <td>...</td>\n",
       "      <td>...</td>\n",
       "    </tr>\n",
       "    <tr>\n",
       "      <th>82</th>\n",
       "      <td>rosiglitazone_1</td>\n",
       "      <td>Categorical</td>\n",
       "      <td>0.007</td>\n",
       "      <td>Reject H0</td>\n",
       "    </tr>\n",
       "    <tr>\n",
       "      <th>83</th>\n",
       "      <td>acarbose_1</td>\n",
       "      <td>Categorical</td>\n",
       "      <td>0.000</td>\n",
       "      <td>Reject H0</td>\n",
       "    </tr>\n",
       "    <tr>\n",
       "      <th>87</th>\n",
       "      <td>insulin_1</td>\n",
       "      <td>Categorical</td>\n",
       "      <td>0.000</td>\n",
       "      <td>Reject H0</td>\n",
       "    </tr>\n",
       "    <tr>\n",
       "      <th>92</th>\n",
       "      <td>change_1</td>\n",
       "      <td>Categorical</td>\n",
       "      <td>0.000</td>\n",
       "      <td>Reject H0</td>\n",
       "    </tr>\n",
       "    <tr>\n",
       "      <th>93</th>\n",
       "      <td>diabetesMed_1</td>\n",
       "      <td>Categorical</td>\n",
       "      <td>0.000</td>\n",
       "      <td>Reject H0</td>\n",
       "    </tr>\n",
       "  </tbody>\n",
       "</table>\n",
       "<p>68 rows × 4 columns</p>\n",
       "</div>"
      ],
      "text/plain": [
       "              Variable         Type  p_value Null Hypothesis\n",
       "0     time_in_hospital    Numerical    0.000       Reject H0\n",
       "1   num_lab_procedures    Numerical    0.000       Reject H0\n",
       "2       num_procedures    Numerical    0.000       Reject H0\n",
       "3      num_medications    Numerical    0.000       Reject H0\n",
       "4    number_outpatient    Numerical    0.000       Reject H0\n",
       "..                 ...          ...      ...             ...\n",
       "82     rosiglitazone_1  Categorical    0.007       Reject H0\n",
       "83          acarbose_1  Categorical    0.000       Reject H0\n",
       "87           insulin_1  Categorical    0.000       Reject H0\n",
       "92            change_1  Categorical    0.000       Reject H0\n",
       "93       diabetesMed_1  Categorical    0.000       Reject H0\n",
       "\n",
       "[68 rows x 4 columns]"
      ]
     },
     "execution_count": 45,
     "metadata": {},
     "output_type": "execute_result"
    }
   ],
   "source": [
    "h_tests.loc[h_tests['Null Hypothesis'] == 'Reject H0']"
   ]
  },
  {
   "cell_type": "code",
   "execution_count": 46,
   "metadata": {},
   "outputs": [
    {
     "data": {
      "text/html": [
       "<div>\n",
       "<style scoped>\n",
       "    .dataframe tbody tr th:only-of-type {\n",
       "        vertical-align: middle;\n",
       "    }\n",
       "\n",
       "    .dataframe tbody tr th {\n",
       "        vertical-align: top;\n",
       "    }\n",
       "\n",
       "    .dataframe thead th {\n",
       "        text-align: right;\n",
       "    }\n",
       "</style>\n",
       "<table border=\"1\" class=\"dataframe\">\n",
       "  <thead>\n",
       "    <tr style=\"text-align: right;\">\n",
       "      <th></th>\n",
       "      <th>Variable</th>\n",
       "      <th>Type</th>\n",
       "      <th>p_value</th>\n",
       "      <th>Null Hypothesis</th>\n",
       "    </tr>\n",
       "  </thead>\n",
       "  <tbody>\n",
       "    <tr>\n",
       "      <th>42</th>\n",
       "      <td>diag_2_A</td>\n",
       "      <td>Categorical</td>\n",
       "      <td>0.049</td>\n",
       "      <td>Reject H0</td>\n",
       "    </tr>\n",
       "    <tr>\n",
       "      <th>47</th>\n",
       "      <td>diag_2_F</td>\n",
       "      <td>Categorical</td>\n",
       "      <td>0.048</td>\n",
       "      <td>Reject H0</td>\n",
       "    </tr>\n",
       "    <tr>\n",
       "      <th>68</th>\n",
       "      <td>diag_3_M</td>\n",
       "      <td>Categorical</td>\n",
       "      <td>0.044</td>\n",
       "      <td>Reject H0</td>\n",
       "    </tr>\n",
       "    <tr>\n",
       "      <th>26</th>\n",
       "      <td>diag_1_A</td>\n",
       "      <td>Categorical</td>\n",
       "      <td>0.042</td>\n",
       "      <td>Reject H0</td>\n",
       "    </tr>\n",
       "    <tr>\n",
       "      <th>79</th>\n",
       "      <td>glyburide_1</td>\n",
       "      <td>Categorical</td>\n",
       "      <td>0.029</td>\n",
       "      <td>Reject H0</td>\n",
       "    </tr>\n",
       "    <tr>\n",
       "      <th>...</th>\n",
       "      <td>...</td>\n",
       "      <td>...</td>\n",
       "      <td>...</td>\n",
       "      <td>...</td>\n",
       "    </tr>\n",
       "    <tr>\n",
       "      <th>32</th>\n",
       "      <td>diag_1_G</td>\n",
       "      <td>Categorical</td>\n",
       "      <td>0.000</td>\n",
       "      <td>Reject H0</td>\n",
       "    </tr>\n",
       "    <tr>\n",
       "      <th>33</th>\n",
       "      <td>diag_1_H</td>\n",
       "      <td>Categorical</td>\n",
       "      <td>0.000</td>\n",
       "      <td>Reject H0</td>\n",
       "    </tr>\n",
       "    <tr>\n",
       "      <th>36</th>\n",
       "      <td>diag_1_K</td>\n",
       "      <td>Categorical</td>\n",
       "      <td>0.000</td>\n",
       "      <td>Reject H0</td>\n",
       "    </tr>\n",
       "    <tr>\n",
       "      <th>1</th>\n",
       "      <td>num_lab_procedures</td>\n",
       "      <td>Numerical</td>\n",
       "      <td>0.000</td>\n",
       "      <td>Reject H0</td>\n",
       "    </tr>\n",
       "    <tr>\n",
       "      <th>93</th>\n",
       "      <td>diabetesMed_1</td>\n",
       "      <td>Categorical</td>\n",
       "      <td>0.000</td>\n",
       "      <td>Reject H0</td>\n",
       "    </tr>\n",
       "  </tbody>\n",
       "</table>\n",
       "<p>67 rows × 4 columns</p>\n",
       "</div>"
      ],
      "text/plain": [
       "              Variable         Type  p_value Null Hypothesis\n",
       "42            diag_2_A  Categorical    0.049       Reject H0\n",
       "47            diag_2_F  Categorical    0.048       Reject H0\n",
       "68            diag_3_M  Categorical    0.044       Reject H0\n",
       "26            diag_1_A  Categorical    0.042       Reject H0\n",
       "79         glyburide_1  Categorical    0.029       Reject H0\n",
       "..                 ...          ...      ...             ...\n",
       "32            diag_1_G  Categorical    0.000       Reject H0\n",
       "33            diag_1_H  Categorical    0.000       Reject H0\n",
       "36            diag_1_K  Categorical    0.000       Reject H0\n",
       "1   num_lab_procedures    Numerical    0.000       Reject H0\n",
       "93       diabetesMed_1  Categorical    0.000       Reject H0\n",
       "\n",
       "[67 rows x 4 columns]"
      ]
     },
     "execution_count": 46,
     "metadata": {},
     "output_type": "execute_result"
    }
   ],
   "source": [
    "#Could also use PCA to reduce the number of features but did not opt to because...\n",
    "\n",
    "h_tests.loc[(h_tests['Null Hypothesis'] == 'Reject H0') & (h_tests['Variable'] != 'readmitted')].sort_values('p_value', ascending= False)"
   ]
  },
  {
   "cell_type": "code",
   "execution_count": 47,
   "metadata": {
    "scrolled": true
   },
   "outputs": [
    {
     "data": {
      "text/html": [
       "<div>\n",
       "<style scoped>\n",
       "    .dataframe tbody tr th:only-of-type {\n",
       "        vertical-align: middle;\n",
       "    }\n",
       "\n",
       "    .dataframe tbody tr th {\n",
       "        vertical-align: top;\n",
       "    }\n",
       "\n",
       "    .dataframe thead th {\n",
       "        text-align: right;\n",
       "    }\n",
       "</style>\n",
       "<table border=\"1\" class=\"dataframe\">\n",
       "  <thead>\n",
       "    <tr style=\"text-align: right;\">\n",
       "      <th></th>\n",
       "      <th>Variable</th>\n",
       "      <th>Type</th>\n",
       "      <th>p_value</th>\n",
       "      <th>Null Hypothesis</th>\n",
       "    </tr>\n",
       "  </thead>\n",
       "  <tbody>\n",
       "    <tr>\n",
       "      <th>25</th>\n",
       "      <td>admission_source_id_4</td>\n",
       "      <td>Categorical</td>\n",
       "      <td>0.749</td>\n",
       "      <td>Fail to reject H0</td>\n",
       "    </tr>\n",
       "    <tr>\n",
       "      <th>30</th>\n",
       "      <td>diag_1_E</td>\n",
       "      <td>Categorical</td>\n",
       "      <td>0.986</td>\n",
       "      <td>Fail to reject H0</td>\n",
       "    </tr>\n",
       "    <tr>\n",
       "      <th>34</th>\n",
       "      <td>diag_1_I</td>\n",
       "      <td>Categorical</td>\n",
       "      <td>0.164</td>\n",
       "      <td>Fail to reject H0</td>\n",
       "    </tr>\n",
       "    <tr>\n",
       "      <th>37</th>\n",
       "      <td>diag_1_L</td>\n",
       "      <td>Categorical</td>\n",
       "      <td>0.302</td>\n",
       "      <td>Fail to reject H0</td>\n",
       "    </tr>\n",
       "    <tr>\n",
       "      <th>43</th>\n",
       "      <td>diag_2_B</td>\n",
       "      <td>Categorical</td>\n",
       "      <td>0.976</td>\n",
       "      <td>Fail to reject H0</td>\n",
       "    </tr>\n",
       "    <tr>\n",
       "      <th>45</th>\n",
       "      <td>diag_2_D</td>\n",
       "      <td>Categorical</td>\n",
       "      <td>0.077</td>\n",
       "      <td>Fail to reject H0</td>\n",
       "    </tr>\n",
       "    <tr>\n",
       "      <th>50</th>\n",
       "      <td>diag_2_I</td>\n",
       "      <td>Categorical</td>\n",
       "      <td>0.247</td>\n",
       "      <td>Fail to reject H0</td>\n",
       "    </tr>\n",
       "    <tr>\n",
       "      <th>57</th>\n",
       "      <td>diag_3_A</td>\n",
       "      <td>Categorical</td>\n",
       "      <td>0.960</td>\n",
       "      <td>Fail to reject H0</td>\n",
       "    </tr>\n",
       "    <tr>\n",
       "      <th>58</th>\n",
       "      <td>diag_3_B</td>\n",
       "      <td>Categorical</td>\n",
       "      <td>0.508</td>\n",
       "      <td>Fail to reject H0</td>\n",
       "    </tr>\n",
       "    <tr>\n",
       "      <th>60</th>\n",
       "      <td>diag_3_D</td>\n",
       "      <td>Categorical</td>\n",
       "      <td>0.552</td>\n",
       "      <td>Fail to reject H0</td>\n",
       "    </tr>\n",
       "    <tr>\n",
       "      <th>61</th>\n",
       "      <td>diag_3_E</td>\n",
       "      <td>Categorical</td>\n",
       "      <td>0.400</td>\n",
       "      <td>Fail to reject H0</td>\n",
       "    </tr>\n",
       "    <tr>\n",
       "      <th>62</th>\n",
       "      <td>diag_3_F</td>\n",
       "      <td>Categorical</td>\n",
       "      <td>0.178</td>\n",
       "      <td>Fail to reject H0</td>\n",
       "    </tr>\n",
       "    <tr>\n",
       "      <th>69</th>\n",
       "      <td>diag_3_N</td>\n",
       "      <td>Categorical</td>\n",
       "      <td>0.189</td>\n",
       "      <td>Fail to reject H0</td>\n",
       "    </tr>\n",
       "    <tr>\n",
       "      <th>70</th>\n",
       "      <td>diag_3_P</td>\n",
       "      <td>Categorical</td>\n",
       "      <td>0.340</td>\n",
       "      <td>Fail to reject H0</td>\n",
       "    </tr>\n",
       "    <tr>\n",
       "      <th>74</th>\n",
       "      <td>nateglinide_1</td>\n",
       "      <td>Categorical</td>\n",
       "      <td>0.196</td>\n",
       "      <td>Fail to reject H0</td>\n",
       "    </tr>\n",
       "    <tr>\n",
       "      <th>75</th>\n",
       "      <td>chlorpropamide_1</td>\n",
       "      <td>Categorical</td>\n",
       "      <td>0.677</td>\n",
       "      <td>Fail to reject H0</td>\n",
       "    </tr>\n",
       "    <tr>\n",
       "      <th>76</th>\n",
       "      <td>glimepiride_1</td>\n",
       "      <td>Categorical</td>\n",
       "      <td>0.542</td>\n",
       "      <td>Fail to reject H0</td>\n",
       "    </tr>\n",
       "    <tr>\n",
       "      <th>77</th>\n",
       "      <td>acetohexamide_1</td>\n",
       "      <td>Categorical</td>\n",
       "      <td>0.960</td>\n",
       "      <td>Fail to reject H0</td>\n",
       "    </tr>\n",
       "    <tr>\n",
       "      <th>80</th>\n",
       "      <td>tolbutamide_1</td>\n",
       "      <td>Categorical</td>\n",
       "      <td>0.372</td>\n",
       "      <td>Fail to reject H0</td>\n",
       "    </tr>\n",
       "    <tr>\n",
       "      <th>84</th>\n",
       "      <td>miglitol_1</td>\n",
       "      <td>Categorical</td>\n",
       "      <td>0.076</td>\n",
       "      <td>Fail to reject H0</td>\n",
       "    </tr>\n",
       "    <tr>\n",
       "      <th>85</th>\n",
       "      <td>troglitazone_1</td>\n",
       "      <td>Categorical</td>\n",
       "      <td>0.930</td>\n",
       "      <td>Fail to reject H0</td>\n",
       "    </tr>\n",
       "    <tr>\n",
       "      <th>86</th>\n",
       "      <td>tolazamide_1</td>\n",
       "      <td>Categorical</td>\n",
       "      <td>0.108</td>\n",
       "      <td>Fail to reject H0</td>\n",
       "    </tr>\n",
       "    <tr>\n",
       "      <th>88</th>\n",
       "      <td>glyburide-metformin_1</td>\n",
       "      <td>Categorical</td>\n",
       "      <td>0.485</td>\n",
       "      <td>Fail to reject H0</td>\n",
       "    </tr>\n",
       "    <tr>\n",
       "      <th>89</th>\n",
       "      <td>glipizide-metformin_1</td>\n",
       "      <td>Categorical</td>\n",
       "      <td>0.460</td>\n",
       "      <td>Fail to reject H0</td>\n",
       "    </tr>\n",
       "    <tr>\n",
       "      <th>90</th>\n",
       "      <td>glimepiride-pioglitazone_1</td>\n",
       "      <td>Categorical</td>\n",
       "      <td>0.960</td>\n",
       "      <td>Fail to reject H0</td>\n",
       "    </tr>\n",
       "    <tr>\n",
       "      <th>91</th>\n",
       "      <td>metformin-pioglitazone_1</td>\n",
       "      <td>Categorical</td>\n",
       "      <td>0.960</td>\n",
       "      <td>Fail to reject H0</td>\n",
       "    </tr>\n",
       "  </tbody>\n",
       "</table>\n",
       "</div>"
      ],
      "text/plain": [
       "                      Variable         Type  p_value    Null Hypothesis\n",
       "25       admission_source_id_4  Categorical    0.749  Fail to reject H0\n",
       "30                    diag_1_E  Categorical    0.986  Fail to reject H0\n",
       "34                    diag_1_I  Categorical    0.164  Fail to reject H0\n",
       "37                    diag_1_L  Categorical    0.302  Fail to reject H0\n",
       "43                    diag_2_B  Categorical    0.976  Fail to reject H0\n",
       "45                    diag_2_D  Categorical    0.077  Fail to reject H0\n",
       "50                    diag_2_I  Categorical    0.247  Fail to reject H0\n",
       "57                    diag_3_A  Categorical    0.960  Fail to reject H0\n",
       "58                    diag_3_B  Categorical    0.508  Fail to reject H0\n",
       "60                    diag_3_D  Categorical    0.552  Fail to reject H0\n",
       "61                    diag_3_E  Categorical    0.400  Fail to reject H0\n",
       "62                    diag_3_F  Categorical    0.178  Fail to reject H0\n",
       "69                    diag_3_N  Categorical    0.189  Fail to reject H0\n",
       "70                    diag_3_P  Categorical    0.340  Fail to reject H0\n",
       "74               nateglinide_1  Categorical    0.196  Fail to reject H0\n",
       "75            chlorpropamide_1  Categorical    0.677  Fail to reject H0\n",
       "76               glimepiride_1  Categorical    0.542  Fail to reject H0\n",
       "77             acetohexamide_1  Categorical    0.960  Fail to reject H0\n",
       "80               tolbutamide_1  Categorical    0.372  Fail to reject H0\n",
       "84                  miglitol_1  Categorical    0.076  Fail to reject H0\n",
       "85              troglitazone_1  Categorical    0.930  Fail to reject H0\n",
       "86                tolazamide_1  Categorical    0.108  Fail to reject H0\n",
       "88       glyburide-metformin_1  Categorical    0.485  Fail to reject H0\n",
       "89       glipizide-metformin_1  Categorical    0.460  Fail to reject H0\n",
       "90  glimepiride-pioglitazone_1  Categorical    0.960  Fail to reject H0\n",
       "91    metformin-pioglitazone_1  Categorical    0.960  Fail to reject H0"
      ]
     },
     "execution_count": 47,
     "metadata": {},
     "output_type": "execute_result"
    }
   ],
   "source": [
    "h_tests.loc[h_tests['Null Hypothesis'] == 'Fail to reject H0']"
   ]
  },
  {
   "cell_type": "code",
   "execution_count": 48,
   "metadata": {},
   "outputs": [],
   "source": [
    "to_drop = h_tests.loc[(h_tests['Null Hypothesis'] == 'Fail to reject H0') & (h_tests['Variable'] != 'readmitted')]['Variable']"
   ]
  },
  {
   "cell_type": "code",
   "execution_count": 49,
   "metadata": {},
   "outputs": [],
   "source": [
    "df.drop(to_drop, axis=1, inplace=True)"
   ]
  },
  {
   "cell_type": "code",
   "execution_count": 50,
   "metadata": {},
   "outputs": [],
   "source": [
    "df.to_csv('Data/preprocessed_diabetes.csv', index=False)"
   ]
  }
 ],
 "metadata": {
  "kernelspec": {
   "display_name": "Python 3",
   "language": "python",
   "name": "python3"
  },
  "language_info": {
   "codemirror_mode": {
    "name": "ipython",
    "version": 3
   },
   "file_extension": ".py",
   "mimetype": "text/x-python",
   "name": "python",
   "nbconvert_exporter": "python",
   "pygments_lexer": "ipython3",
   "version": "3.7.5"
  }
 },
 "nbformat": 4,
 "nbformat_minor": 4
}
